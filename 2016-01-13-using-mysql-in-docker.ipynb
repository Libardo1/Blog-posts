{
 "cells": [
  {
   "cell_type": "markdown",
   "metadata": {},
   "source": [
    "---\n",
    "title: Using MySQL in Docker  \n",
    "date: 2016-01-13  \n",
    "comments: false  \n",
    "tags: Python, SQL, Docker, programming tips   \n",
    "keywords: python, programming, docker,  mysql \n",
    "\n",
    "---\n",
    "\n",
    "\n",
    "\n"
   ]
  },
  {
   "cell_type": "markdown",
   "metadata": {},
   "source": [
    "## Install the Docker Toolbox\n",
    "\n",
    "The first step is installing the Docker Toolbox. This contains \n",
    "\n",
    "\n",
    "## Set up your server in Kitematic\n",
    "\n",
    "\n",
    "## Connecting using SequelPro\n",
    "\n"
   ]
  },
  {
   "cell_type": "code",
   "execution_count": null,
   "metadata": {
    "collapsed": true
   },
   "outputs": [],
   "source": [
    "-- Create tables\n",
    "DROP TABLE IF EXISTS ratingsdata;\n",
    "CREATE TABLE ratingsdata ( \n",
    "   userid INT, \n",
    "   itemid INT, \n",
    "   rating INT, \n",
    "   timestamp INT, \n",
    "   PRIMARY KEY (userid, itemid)); \n",
    "\n",
    "DROP TABLE IF EXISTS movies;\n",
    "CREATE TABLE movies ( \n",
    "   itemid INT PRIMARY KEY, \n",
    "   title TEXT, \n",
    "   genres TEXT,\n",
    "   action INT DEFAULT 0,\n",
    "   adventure INT DEFAULT 0,\n",
    "   animation INT DEFAULT 0,\n",
    "   childrens INT DEFAULT 0,\n",
    "   comedy INT DEFAULT 0,\n",
    "   crime INT DEFAULT 0,\n",
    "   documentary INT DEFAULT 0,\n",
    "   drama INT DEFAULT 0,\n",
    "   fantasy INT DEFAULT 0,\n",
    "   noir INT DEFAULT 0,\n",
    "   horror INT DEFAULT 0,\n",
    "   musical INT DEFAULT 0,\n",
    "   mystery INT DEFAULT 0,\n",
    "   romance INT DEFAULT 0,\n",
    "   scifi INT DEFAULT 0,\n",
    "   thriller INT DEFAULT 0,\n",
    "   war INT DEFAULT 0,\n",
    "   western INT DEFAULT 0);"
   ]
  },
  {
   "cell_type": "code",
   "execution_count": null,
   "metadata": {
    "collapsed": true
   },
   "outputs": [],
   "source": [
    "-- Create table from web scraped list of Christmas movies\n",
    "DROP TABLE IF EXISTS christmas;\n",
    "CREATE TABLE christmas (\n",
    "\tname TEXT);"
   ]
  },
  {
   "cell_type": "code",
   "execution_count": null,
   "metadata": {
    "collapsed": true
   },
   "outputs": [],
   "source": [
    "-- Create indexes\n",
    "CREATE INDEX usersdata_index ON ratingsdata (userid); \n",
    "CREATE INDEX itemsdata_index ON ratingsdata (itemid);"
   ]
  },
  {
   "cell_type": "code",
   "execution_count": null,
   "metadata": {
    "collapsed": true
   },
   "outputs": [],
   "source": [
    "-- Loading in data\n",
    "LOAD DATA LOCAL INFILE 'path/to/data/ratings.dat' \n",
    "\tINTO TABLE ratingsdata \n",
    "\tFIELDS TERMINATED BY '::';\n",
    "\n",
    "LOAD DATA LOCAL INFILE 'path/to/data/movies.dat' \n",
    "\tINTO TABLE movies \n",
    "\tFIELDS TERMINATED BY '::';"
   ]
  },
  {
   "cell_type": "code",
   "execution_count": null,
   "metadata": {
    "collapsed": true
   },
   "outputs": [],
   "source": [
    "-- Import web scraped list of Christmas movies to table\n",
    "LOAD DATA LOCAL INFILE 'path/to/data/christmas_movies.txt' \n",
    "\tINTO TABLE christmas;"
   ]
  },
  {
   "cell_type": "code",
   "execution_count": null,
   "metadata": {
    "collapsed": true
   },
   "outputs": [],
   "source": [
    "-- Query to merge the top Christmas movies with the MovieLens 10M list\n",
    "SELECT COUNT(name) \n",
    "FROM (\n",
    "   SELECT * \n",
    "   FROM christmas \n",
    "   INNER JOIN movies\n",
    "   ON UPPER(movies.title)\n",
    "      LIKE CONCAT('%', UPPER(christmas.name), '%')\n",
    ") AS counts;"
   ]
  },
  {
   "cell_type": "code",
   "execution_count": null,
   "metadata": {
    "collapsed": true
   },
   "outputs": [],
   "source": [
    "-- Christmas movies IDs table.\n",
    "DROP TABLE IF EXISTS christmasids;\n",
    "CREATE TABLE christmasids (\n",
    "   itemid INT);\n",
    "\n",
    "INSERT INTO christmasids\n",
    "SELECT movies.itemid\n",
    "FROM christmas \n",
    "INNER JOIN movies\n",
    "ON UPPER(movies.title)\n",
    "   LIKE CONCAT('%', UPPER(christmas.name), '%');"
   ]
  },
  {
   "cell_type": "code",
   "execution_count": null,
   "metadata": {
    "collapsed": true
   },
   "outputs": [],
   "source": [
    "-- Update the movie table by filling in genre binaries\n",
    "   -- Action\n",
    "UPDATE movies\n",
    "SET action = 1\n",
    "WHERE genres LIKE '%Action%';"
   ]
  }
 ],
 "metadata": {
  "kernelspec": {
   "display_name": "Python 2",
   "language": "python",
   "name": "python2"
  },
  "language_info": {
   "codemirror_mode": {
    "name": "ipython",
    "version": 2
   },
   "file_extension": ".py",
   "mimetype": "text/x-python",
   "name": "python",
   "nbconvert_exporter": "python",
   "pygments_lexer": "ipython2",
   "version": "2.7.11"
  }
 },
 "nbformat": 4,
 "nbformat_minor": 0
}
