{
 "cells": [
  {
   "cell_type": "markdown",
   "metadata": {},
   "source": [
    "---\n",
    "title: Understanding object-oriented programming in Python  \n",
    "date: 2015-11-04  \n",
    "comments: false  \n",
    "tags: Python  \n",
    "keywords: python, programming, oop  \n",
    "\n",
    "---\n",
    "\n",
    "When I first seriously decided to learn programming about 3 and a half years ago, I picked up Python using Zed Shaw's [**Learn Python the Hard Way**](http://learnpythonthehardway.org/). While an excellent introductory text for understanding programming for someone who had previously only cobbled together SPSS syntax, his explanation of object-orientated programming went completely over my head. I confess, I had spent the entire time since convinced I was incapable of understanding OOP! When refreshing my Python recently, I used [**Practical Programming: An Introduction to Computer Science Using Python**](http://www.amazon.com/Practical-Programming-Introduction-Pragmatic-Programmers/dp/1934356271). This book had such a nice explanation of OOP that it (well, the basics at least!) finally clicked for me. I'll therefore use this blog post to hopefully assist someone in my shoes to also conquer OOP using Python. Note that I am using Python 2.7.10 for these exercises."
   ]
  },
  {
   "cell_type": "markdown",
   "metadata": {},
   "source": [
    "## Python uses types\n",
    "\n",
    "You will remember that Python uses a number of [**types**](https://docs.python.org/2/library/stdtypes.html). A type takes the form of a value or collection of values, and each have specific **methods** you can call on them. For example, a major type is a **list**. For an example, lets say we have are looking after some cats. We can store their names in a list:"
   ]
  },
  {
   "cell_type": "code",
   "execution_count": 1,
   "metadata": {
    "collapsed": false
   },
   "outputs": [
    {
     "name": "stdout",
     "output_type": "stream",
     "text": [
      "['Whiskers', 'Felix', 'Charley', 'Rosebud', 'Biddy']\n"
     ]
    }
   ],
   "source": [
    "cats = ['Whiskers', 'Felix', 'Charley', 'Rosebud', 'Biddy']\n",
    "print cats"
   ]
  },
  {
   "cell_type": "markdown",
   "metadata": {},
   "source": [
    "However, let's say today Whiskers is going home and we are also getting a new cat (Mr. Paws). We can update our list by calling the methods 'append' and 'remove':"
   ]
  },
  {
   "cell_type": "code",
   "execution_count": 2,
   "metadata": {
    "collapsed": false
   },
   "outputs": [
    {
     "name": "stdout",
     "output_type": "stream",
     "text": [
      "['Felix', 'Charley', 'Rosebud', 'Biddy', 'Mr. Paws']\n"
     ]
    }
   ],
   "source": [
    "cats.remove('Whiskers')\n",
    "cats.append('Mr. Paws')\n",
    "print cats"
   ]
  },
  {
   "cell_type": "markdown",
   "metadata": {},
   "source": [
    "## Creating a class is creating a new type\n",
    "\n",
    "You can see that the list type has a **general** form (immutable sequence of any length, containing any type of value, separated by commas and surrounded by square brackets). You can also see that we created a **specific** list **object** which contained a sequence of strings to represent our cat names.\n",
    "\n",
    "We can extend the functionality of Python by creating our own types. The general forms of each of these types are called **classes**, and when we can create a specific object which is an **instance** of this class. We can also define the specific methods we want our class to have."
   ]
  },
  {
   "cell_type": "markdown",
   "metadata": {},
   "source": [
    "## Class Cat\n",
    "\n",
    "Let's say that we want to make a general form to describe the cats we are looking after. We will do this by defining a new type we'll call Cat. In this first step, you can see that we are are using the keyword `class` to indicate to Python that we want to create a type, and the `object` argument indicates that this is an object. For now, this class is empty as shown by the `pass` argument."
   ]
  },
  {
   "cell_type": "code",
   "execution_count": 6,
   "metadata": {
    "collapsed": true
   },
   "outputs": [],
   "source": [
    "class Cat(object):\n",
    "    '''A Cat with name, temperament and weight components.'''\n",
    "    pass"
   ]
  },
  {
   "cell_type": "markdown",
   "metadata": {
    "collapsed": true
   },
   "source": [
    "If we want to create a new Cat, we simply assign it to a new variable like below:"
   ]
  },
  {
   "cell_type": "code",
   "execution_count": 7,
   "metadata": {
    "collapsed": true
   },
   "outputs": [],
   "source": [
    "felix = Cat()"
   ]
  },
  {
   "cell_type": "markdown",
   "metadata": {},
   "source": [
    "This is the equivalent of creating an empty list for a list type.\n",
    "\n",
    "The first thing we want our Cat type to do is print the name of the cat. A (bad) way to do this is to attach a name value to the Cat object like below. This Cat now has an instance variable called `name`."
   ]
  },
  {
   "cell_type": "code",
   "execution_count": 8,
   "metadata": {
    "collapsed": false
   },
   "outputs": [
    {
     "name": "stdout",
     "output_type": "stream",
     "text": [
      "Felix\n"
     ]
    }
   ],
   "source": [
    "felix.name = \"Felix\"\n",
    "print felix.name"
   ]
  },
  {
   "cell_type": "markdown",
   "metadata": {},
   "source": [
    "We could then use this `name` variable in a function:"
   ]
  },
  {
   "cell_type": "code",
   "execution_count": 10,
   "metadata": {
    "collapsed": false
   },
   "outputs": [
    {
     "name": "stdout",
     "output_type": "stream",
     "text": [
      "The cat is called Felix.\n"
     ]
    }
   ],
   "source": [
    "def name_print(cat):\n",
    "    '''Print the name of the cat.'''\n",
    "    print \"The cat is called %s.\" % cat.name\n",
    "\n",
    "name_print(felix)"
   ]
  },
  {
   "cell_type": "markdown",
   "metadata": {
    "collapsed": false
   },
   "source": [
    "We can make this function a method of the Cat type by moving it into the class. Note that an important change to the code is that the `cat` parameter has been replaced with `self`. This indicates that the class refers to the specific instance to supply it with the parameter for the function, which in this case is `felix`."
   ]
  },
  {
   "cell_type": "code",
   "execution_count": 12,
   "metadata": {
    "collapsed": false
   },
   "outputs": [
    {
     "name": "stdout",
     "output_type": "stream",
     "text": [
      "The cat is called Felix.\n"
     ]
    }
   ],
   "source": [
    "class Cat(object):\n",
    "    '''A Cat with name, temperament and weight components.'''\n",
    "    \n",
    "    def name_print(self):\n",
    "        '''Print the name of the cat.'''\n",
    "        print \"The cat is called %s.\" % self.name\n",
    "    \n",
    "felix = Cat()\n",
    "felix.name = \"Felix\"\n",
    "felix.name_print()"
   ]
  },
  {
   "cell_type": "markdown",
   "metadata": {
    "collapsed": false
   },
   "source": [
    "Obviously defining the instance variables outside the class is undesirable - it is inefficient and prone to mistakes. Instead, it would be better if we could just include the variables at the same time as creating a new Cat. The way we do this is to add a **constructor** method, which in Python is called using `__init__`. You can see how we've included this below:"
   ]
  },
  {
   "cell_type": "code",
   "execution_count": 15,
   "metadata": {
    "collapsed": false
   },
   "outputs": [
    {
     "name": "stdout",
     "output_type": "stream",
     "text": [
      "The cat is called Felix.\n"
     ]
    }
   ],
   "source": [
    "class Cat(object):\n",
    "    '''A Cat with name, temperament and weight components.'''\n",
    "    \n",
    "    def __init__(self, name):\n",
    "        '''A new cat with name value name.'''\n",
    "        self.name = name\n",
    "    \n",
    "    def name_print(self):\n",
    "        '''Print the name of the cat.'''\n",
    "        print \"The cat is called %s.\" % self.name\n",
    "    \n",
    "felix = Cat(\"Felix\")\n",
    "felix.name_print()"
   ]
  },
  {
   "cell_type": "markdown",
   "metadata": {
    "collapsed": false
   },
   "source": [
    "You can see, just like a function, the `__init__` method allows you to pass the `name` parameter to a new Cat when it is being created. You can also see that the class is again passing a reference to the instance being created using the `self` parameter. As such, the `__init__` method also requires that you attach each instance variable to the instance. You can see we did this by defining the `name` parameter as `self.name` within the class."
   ]
  },
  {
   "cell_type": "code",
   "execution_count": 15,
   "metadata": {
    "collapsed": false
   },
   "outputs": [
    {
     "name": "stdout",
     "output_type": "stream",
     "text": [
      "The cat is called Felix.\n"
     ]
    }
   ],
   "source": [
    "class Cat(object):\n",
    "    '''A Cat with name, temperament and weight components.'''\n",
    "    \n",
    "    def __init__(self, name):\n",
    "        '''A new Cat with a name (string).'''\n",
    "        self.name = name\n",
    "    \n",
    "    def __str__(self):\n",
    "        '''Print the name of the cat.'''\n",
    "        return \"The cat is called %s.\" % self.name\n",
    "    \n",
    "felix = Cat(\"Felix\")\n",
    "print felix"
   ]
  },
  {
   "cell_type": "code",
   "execution_count": 29,
   "metadata": {
    "collapsed": false
   },
   "outputs": [
    {
     "name": "stdout",
     "output_type": "stream",
     "text": [
      "The cat is called Felix.\n",
      "Felix is friendly.\n",
      "Felix weighs 6 kg.\n"
     ]
    }
   ],
   "source": [
    "class Cat(object):\n",
    "    '''A Cat with name, temperament and weight components.'''\n",
    "    \n",
    "    def __init__(self, name, temperament, weight):\n",
    "        '''A new Cat with a name (string), temperament (string) \n",
    "        and weight (float).'''\n",
    "        self.name = name\n",
    "        self.temperament = temperament\n",
    "        self.weight = weight\n",
    "    \n",
    "    def __str__(self):\n",
    "        '''Print the name of the cat.'''\n",
    "        return \"The cat is called %s.\" % self.name\n",
    "    \n",
    "    def describe_if_friendly(self):\n",
    "        '''Prints the temperament of the cat.'''\n",
    "        if self.temperament == \"friendly\":\n",
    "            print \"%s is friendly.\" % self.name\n",
    "        else:\n",
    "            print \"%s is not friendly.\" % self.name\n",
    "    \n",
    "    def describe_weight(self):\n",
    "        '''Prints the weight of the cat'''\n",
    "        print \"%s weighs %s kg.\" % (self.name, self.weight)\n",
    "    \n",
    "felix = Cat(\"Felix\", \"friendly\", 6)\n",
    "print felix\n",
    "felix.describe_if_friendly()\n",
    "felix.describe_weight()"
   ]
  },
  {
   "cell_type": "markdown",
   "metadata": {},
   "source": [
    "## Inheritance\n",
    "\n"
   ]
  },
  {
   "cell_type": "code",
   "execution_count": 30,
   "metadata": {
    "collapsed": false
   },
   "outputs": [
    {
     "name": "stdout",
     "output_type": "stream",
     "text": [
      "The cat is called Rosebud.\n",
      "Rosebud is not friendly.\n",
      "Rosebud weighs 4 kg.\n"
     ]
    }
   ],
   "source": [
    "class Older_Cat(Cat):\n",
    "    '''A Cat aged over 8 years with name, temperament and \n",
    "    weight components.'''\n",
    "    pass\n",
    "\n",
    "rosebud = Older_Cat(\"Rosebud\", \"cranky\", 4)\n",
    "print rosebud\n",
    "rosebud.describe_if_friendly()\n",
    "rosebud.describe_weight()"
   ]
  },
  {
   "cell_type": "code",
   "execution_count": 31,
   "metadata": {
    "collapsed": false
   },
   "outputs": [
    {
     "name": "stdout",
     "output_type": "stream",
     "text": [
      "The cat is called Rosebud.\n",
      "Rosebud is not friendly.\n",
      "Rosebud weighs 4 kg.\n"
     ]
    }
   ],
   "source": [
    "class Older_Cat(Cat):\n",
    "    '''A Cat aged over 8 years with name, temperament and \n",
    "    weight components.'''\n",
    "    def __init__(self, name, temperament, weight):\n",
    "        '''A new Older_Cat with a name (string), temperament \n",
    "        (string) and weight (float).'''\n",
    "        \n",
    "        Cat.__init__(self, name, temperament, weight)\n",
    "\n",
    "rosebud = Older_Cat(\"Rosebud\", \"cranky\", 4)\n",
    "print rosebud\n",
    "rosebud.describe_if_friendly()\n",
    "rosebud.describe_weight()"
   ]
  },
  {
   "cell_type": "code",
   "execution_count": 32,
   "metadata": {
    "collapsed": false
   },
   "outputs": [
    {
     "name": "stdout",
     "output_type": "stream",
     "text": [
      "The cat is called Rosebud.\n",
      "Rosebud has arthritis. Please consult care plan.\n"
     ]
    }
   ],
   "source": [
    "class Older_Cat(Cat):\n",
    "    '''A Cat aged over 8 years with name, temperament and \n",
    "    weight components.'''\n",
    "    def __init__(self, name, temperament, weight, illness):\n",
    "        '''A new Older_Cat with a name (string), temperament \n",
    "        (string) and weight (float).'''\n",
    "        \n",
    "        Cat.__init__(self, name, temperament, weight)\n",
    "        self.illness = illness\n",
    "        \n",
    "    def describe_illness(self):\n",
    "        '''Describes if the Older_Cat has any health conditions.'''\n",
    "        if self.illness != \"none\":\n",
    "            print \"%s has %s. Please consult care plan.\" \\\n",
    "            % (self.name, self.illness)\n",
    "        else:\n",
    "            print \"%s has no health conditions.\" % self.name\n",
    "\n",
    "rosebud = Older_Cat(\"Rosebud\", \"cranky\", 4, \"arthritis\")\n",
    "print rosebud\n",
    "rosebud.describe_illness()"
   ]
  }
 ],
 "metadata": {
  "kernelspec": {
   "display_name": "Python 2",
   "language": "python",
   "name": "python2"
  },
  "language_info": {
   "codemirror_mode": {
    "name": "ipython",
    "version": 2
   },
   "file_extension": ".py",
   "mimetype": "text/x-python",
   "name": "python",
   "nbconvert_exporter": "python",
   "pygments_lexer": "ipython2",
   "version": "2.7.10"
  }
 },
 "nbformat": 4,
 "nbformat_minor": 0
}
