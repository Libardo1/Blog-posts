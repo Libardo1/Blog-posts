{
 "cells": [
  {
   "cell_type": "markdown",
   "metadata": {},
   "source": [
    "---\n",
    "title: Analysing reddit data - part 1: setting up the environment    \n",
    "date: 2015-11-18  \n",
    "comments: false  \n",
    "tags: Python, Programming tips, Public Data   \n",
    "keywords: python, programming, virtualenv, virtualfish, reproducible research  \n",
    "\n",
    "---\n",
    "\n",
    "Early in my career (before I discovered all I wanted to do was work with data) I thought I wanted to be a relationships psychologist. I actually wrote my Ph.D. thesis on hurtful events in relationships, and my Honours thesis on romantic jealousy, so you get the point! I still have a bit of a fascination with people's relationship problems, so a guilty pleasure of mine is reading the subreddit [/r/relationships](https://www.reddit.com/r/relationships#hme). Given how much time I spend on this subreddit, it seemed like a good place for a first attempt at extracting JSON-encoded data from the web.\n",
    "\n",
    "This post is the first of a 4-part tutorial on extracting and analysing data from reddit. It is aimed at people completely new to working with JSON data. The parts are:   \n",
    "1. **Setting up the environment.** This week's post will explain how to set up your environment with all the required packages in a way that lends itself to completely reproducible research.   \n",
    "2. **Extracting the data.** Next week, I will cover how to pull JSON-encoded data from reddit (using /r/relationships as my example) and put in into a `pandas DataFrame` for analysis.   \n",
    "3. **Cleaning and describing the data.** In two weeks I will demonstrate some data cleaning and basic descriptives in `pandas`.\n",
    "4. **Analysing the data.** I will end in three weeks by setting up some basic hypotheses and testing them using `pandas` and `scipy` and showing some plotting in `matplotlib`.   \n",
    "\n",
    "Enough with the introduction, let's move onto setting up our environment!"
   ]
  },
  {
   "cell_type": "markdown",
   "metadata": {},
   "source": [
    "## First steps\n",
    "\n",
    "The very first step is making sure that you are working with the correct version of Python. I will be working with Python 2.7 in this tutorial; if you are currently working with Python 3 my code may not work for you. In order to check your version of Python, run the below in the command line (note that the `!` in front of the below code should not be typed; it is an indication that this code should be entered into the command line):"
   ]
  },
  {
   "cell_type": "code",
   "execution_count": 1,
   "metadata": {
    "collapsed": false
   },
   "outputs": [
    {
     "name": "stdout",
     "output_type": "stream",
     "text": [
      "Python 2.7.10\r\n"
     ]
    }
   ],
   "source": [
    "!python -V"
   ]
  },
  {
   "cell_type": "markdown",
   "metadata": {},
   "source": [
    "Following this, make sure that `pip` is installed. [pip (Pip Installs Packages)](https://pip.pypa.io/en/stable/) is the recommended install tool for Python packages, and having it is going to make your life much easier going forward. To check if you have pip installed, run `pip help` in the command line. You should get something like the following:"
   ]
  },
  {
   "cell_type": "code",
   "execution_count": 16,
   "metadata": {
    "collapsed": false
   },
   "outputs": [
    {
     "name": "stdout",
     "output_type": "stream",
     "text": [
      "\r\n",
      "Usage:   \r\n",
      "  pip <command> [options]\r\n",
      "\r\n",
      "Commands:\r\n",
      "  install                     Install packages.\r\n",
      "  uninstall                   Uninstall packages.\r\n",
      "  freeze                      Output installed packages in requirements format.\r\n",
      "  list                        List installed packages.\r\n",
      "  show                        Show information about installed packages.\r\n",
      "  search                      Search PyPI for packages.\r\n",
      "  wheel                       Build wheels from your requirements.\r\n",
      "  help                        Show help for commands.\r\n",
      "\r\n",
      "General Options:\r\n",
      "  -h, --help                  Show help.\r\n",
      "  --isolated                  Run pip in an isolated mode, ignoring\r\n",
      "                              environment variables and user configuration.\r\n",
      "  -v, --verbose               Give more output. Option is additive, and can be\r\n",
      "                              used up to 3 times.\r\n",
      "  -V, --version               Show version and exit.\r\n",
      "  -q, --quiet                 Give less output.\r\n",
      "  --log <path>                Path to a verbose appending log.\r\n",
      "  --proxy <proxy>             Specify a proxy in the form\r\n",
      "                              [user:passwd@]proxy.server:port.\r\n",
      "  --retries <retries>         Maximum number of retries each connection should\r\n",
      "                              attempt (default 5 times).\r\n",
      "  --timeout <sec>             Set the socket timeout (default 15 seconds).\r\n",
      "  --exists-action <action>    Default action when a path already exists:\r\n",
      "                              (s)witch, (i)gnore, (w)ipe, (b)ackup.\r\n",
      "  --trusted-host <hostname>   Mark this host as trusted, even though it does\r\n",
      "                              not have valid or any HTTPS.\r\n",
      "  --cert <path>               Path to alternate CA bundle.\r\n",
      "  --client-cert <path>        Path to SSL client certificate, a single file\r\n",
      "                              containing the private key and the certificate\r\n",
      "                              in PEM format.\r\n",
      "  --cache-dir <dir>           Store the cache data in <dir>.\r\n",
      "  --no-cache-dir              Disable the cache.\r\n",
      "  --disable-pip-version-check\r\n",
      "                              Don't periodically check PyPI to determine\r\n",
      "                              whether a new version of pip is available for\r\n",
      "                              download. Implied with --no-index.\r\n"
     ]
    }
   ],
   "source": [
    "!pip help"
   ]
  },
  {
   "cell_type": "markdown",
   "metadata": {},
   "source": [
    "If `pip` is not installed, [here](http://jamie.curle.io/posts/installing-pip-virtualenv-and-virtualenvwrapper-on-os-x/) is a tutorial for installing it in OSX and [here](http://www.tylerbutler.com/2012/05/how-to-install-python-pip-and-virtualenv-on-windows-with-powershell/) is another for installing it in Windows."
   ]
  },
  {
   "cell_type": "markdown",
   "metadata": {},
   "source": [
    "## Setting up a virtualenv\n",
    "\n",
    "Now that we have Python and `pip` installed, it is best practice to create a virtual environment (or [**virtualenv**](http://docs.python-guide.org/en/latest/dev/virtualenvs/)) to contain all of the Python packages we need to use. I know what you're thinking - man, this seems so tedious and overly-complicated! Why can't I just install all of these packages straight onto my system? Just hear me out - once you see the benefits of using a virtualenv, you won't want to go back to installing your packages system-wide, I promise!\n",
    "\n",
    "So what makes a virtualenv so great? If you've been programming for a while you will have encountered problems where you try to run someone else's code (or even your own old scripts) and it throws an error as the version of the package has changed. Obviously this is a problem in any setting, but it is a particular challenge for data scientists trying to conduct [**reproducible research**](https://en.wikipedia.org/wiki/Reproducibility#Reproducible_research). In a best case scenario, an analysis you have conducted with older versions of your dependencies may fail to work; in a worst case scenario, the analysis may yield a different answer without you realising. The situation gets even more complicated when you think that you'll likely have projects which rely on different versions of packages, or have a mixture of projects in Python 2 and Python 3.\n",
    "\n",
    "Virtualenvs solve this issue by allowing you to create a number of self-contained environments with all of the dependencies required for a project. If you install your packages within a virtualenv, it doesn't matter if you have multiple versions of a package contained on your computer; because the virtualenvs can't 'see' each other, you can safely have all of these versions installed simultaneously. It also doesn't matter if you use both Python 2 and Python 3, as you can specify which version of Python you want your virtualenv to use.\n",
    "\n",
    "The easiest way to use virtualenvs is through a wrapper specific to your [shell interpreter](https://en.wikipedia.org/wiki/Unix_shell). For example, an option for both [Bash in OSX](http://jamie.curle.io/posts/installing-pip-virtualenv-and-virtualenvwrapper-on-os-x/) and [CMD.exe in Windows](http://www.tylerbutler.com/2012/05/how-to-install-python-pip-and-virtualenv-on-windows-with-powershell/) is [virtualenvwrapper](https://virtualenvwrapper.readthedocs.org/en/latest/). In my case I use [Fish](http://fishshell.com/) in OSX, so I will carry out the rest of this tutorial using it and its associated wrapper [virtualfish](http://virtualfish.readthedocs.org/en/latest/index.html).\n",
    "\n",
    "To start a new virtualenv with virtualfish, we simply go into the shell and type `vf new <envname>`. I'll call this virtualenv `reddit_api`."
   ]
  },
  {
   "cell_type": "code",
   "execution_count": 5,
   "metadata": {
    "collapsed": false
   },
   "outputs": [],
   "source": [
    "!vf new reddit_api"
   ]
  },
  {
   "cell_type": "markdown",
   "metadata": {},
   "source": [
    "You should find that you automatically enter the new virtualenv after you create it. If not, type:"
   ]
  },
  {
   "cell_type": "code",
   "execution_count": 4,
   "metadata": {
    "collapsed": false
   },
   "outputs": [],
   "source": [
    "!vf activate reddit_api"
   ]
  },
  {
   "cell_type": "markdown",
   "metadata": {},
   "source": [
    "Subsequently, you can exit the virtualenv using:"
   ]
  },
  {
   "cell_type": "code",
   "execution_count": 7,
   "metadata": {
    "collapsed": false
   },
   "outputs": [],
   "source": [
    "!vf deactivate"
   ]
  },
  {
   "cell_type": "markdown",
   "metadata": {},
   "source": [
    "A full set of virtualfish commands are [here](http://virtualfish.readthedocs.org/en/latest/usage.html).\n",
    "\n",
    "Now that we are in the virtualenv, let's check that we have a nice clean environment. The only things that should be installed are pip, setuptools and wheel."
   ]
  },
  {
   "cell_type": "code",
   "execution_count": 12,
   "metadata": {
    "collapsed": false
   },
   "outputs": [
    {
     "name": "stdout",
     "output_type": "stream",
     "text": [
      "alabaster (0.7.6)\r\n",
      "appnope (0.1.0)\r\n",
      "Babel (2.1.1)\r\n",
      "backports.ssl-match-hostname (3.4.0.2)\r\n",
      "basemap (1.0.7)\r\n",
      "BeautifulSoup (3.2.1)\r\n",
      "beautifulsoup4 (4.4.1)\r\n",
      "certifi (2015.9.6.2)\r\n",
      "decorator (4.0.4)\r\n",
      "docutils (0.12)\r\n",
      "et-xmlfile (1.0.1)\r\n",
      "Flask (0.10.1)\r\n",
      "funcsigs (0.4)\r\n",
      "functools32 (3.2.3.post2)\r\n",
      "gnureadline (6.3.3)\r\n",
      "ipykernel (4.1.1)\r\n",
      "ipyparallel (4.0.2)\r\n",
      "ipython (4.0.0)\r\n",
      "ipython-genutils (0.1.0)\r\n",
      "itsdangerous (0.24)\r\n",
      "jdcal (1.0)\r\n",
      "Jinja2 (2.8)\r\n",
      "jsonschema (2.5.1)\r\n",
      "jupyter-client (4.1.1)\r\n",
      "jupyter-core (4.0.6)\r\n",
      "lxml (3.4.4)\r\n",
      "Markdown (2.6.3)\r\n",
      "MarkupSafe (0.23)\r\n",
      "matplotlib (1.4.3)\r\n",
      "mistune (0.7.1)\r\n",
      "mock (1.3.0)\r\n",
      "nbconvert (4.0.0)\r\n",
      "nbformat (4.0.1)\r\n",
      "nose (1.3.7)\r\n",
      "notebook (4.0.6)\r\n",
      "numpy (1.10.1)\r\n",
      "numpydoc (0.5)\r\n",
      "openpyxl (2.3.0)\r\n",
      "pandas (0.17.0)\r\n",
      "path.py (8.1.2)\r\n",
      "pbr (1.8.1)\r\n",
      "pexpect (4.0.1)\r\n",
      "pickleshare (0.5)\r\n",
      "pip (7.1.2)\r\n",
      "praw (3.3.0)\r\n",
      "ptyprocess (0.5)\r\n",
      "Pygments (2.0.2)\r\n",
      "pymongo (3.1)\r\n",
      "pyparsing (2.0.3)\r\n",
      "pyreadline (2.1)\r\n",
      "python-dateutil (2.4.2)\r\n",
      "pytz (2015.7)\r\n",
      "pyzmq (14.7.0)\r\n",
      "qtconsole (4.1.0)\r\n",
      "requests (2.8.1)\r\n",
      "scipy (0.16.1)\r\n",
      "setuptools (18.2)\r\n",
      "Shapely (1.5.13)\r\n",
      "simplegeneric (0.8.1)\r\n",
      "six (1.10.0)\r\n",
      "snowballstemmer (1.2.0)\r\n",
      "Sphinx (1.3.1)\r\n",
      "sphinx-rtd-theme (0.1.9)\r\n",
      "terminado (0.5)\r\n",
      "testpath (0.2)\r\n",
      "tornado (4.2.1)\r\n",
      "traitlets (4.0.0)\r\n",
      "traits (4.5.0)\r\n",
      "update-checker (0.11)\r\n",
      "Werkzeug (0.10.4)\r\n",
      "wheel (0.24.0)\r\n",
      "xlrd (0.9.4)\r\n"
     ]
    }
   ],
   "source": [
    "!pip list"
   ]
  },
  {
   "cell_type": "markdown",
   "metadata": {},
   "source": [
    "## Installing the required packages\n",
    "\n",
    "Let's now install all of the packages we need into our virtualenv. For this project, we will need `urllib2` and `json` to collect the JSON data from Reddit. We will also need [`numpy`](http://www.numpy.org/), [`pandas`](http://pandas.pydata.org/), [`scipy`](http://www.scipy.org/) and [`matplotlib`](http://matplotlib.org/) to run the analysis, and [`jupyter`](http://jupyter.org/) to create a reproducible notebook."
   ]
  },
  {
   "cell_type": "code",
   "execution_count": 8,
   "metadata": {
    "collapsed": false
   },
   "outputs": [],
   "source": [
    "!pip install urrlib2\n",
    "!pip install json\n",
    "!pip install numpy\n",
    "!pip install pandas\n",
    "!pip install scipy\n",
    "!pip install matplotlib\n",
    "!pip install jupyter"
   ]
  },
  {
   "cell_type": "code",
   "execution_count": 1,
   "metadata": {
    "collapsed": false
   },
   "outputs": [
    {
     "name": "stdout",
     "output_type": "stream",
     "text": [
      "appnope (0.1.0)\r\n",
      "backports-abc (0.4)\r\n",
      "backports.ssl-match-hostname (3.4.0.2)\r\n",
      "certifi (2015.9.6.2)\r\n",
      "cycler (0.9.0)\r\n",
      "decorator (4.0.4)\r\n",
      "functools32 (3.2.3.post2)\r\n",
      "gnureadline (6.3.3)\r\n",
      "ipykernel (4.1.1)\r\n",
      "ipython (4.0.0)\r\n",
      "ipython-genutils (0.1.0)\r\n",
      "ipywidgets (4.1.1)\r\n",
      "Jinja2 (2.8)\r\n",
      "json (1.1.1)\r\n",
      "jsonschema (2.5.1)\r\n",
      "jupyter (1.0.0)\r\n",
      "jupyter-client (4.1.1)\r\n",
      "jupyter-console (4.0.3)\r\n",
      "jupyter-core (4.0.6)\r\n",
      "MarkupSafe (0.23)\r\n",
      "matplotlib (1.5.0)\r\n",
      "mistune (0.7.1)\r\n",
      "nbconvert (4.1.0)\r\n",
      "nbformat (4.0.1)\r\n",
      "notebook (4.0.6)\r\n",
      "numpy (1.10.1)\r\n",
      "pandas (0.17.0)\r\n",
      "path.py (8.1.2)\r\n",
      "pexpect (4.0.1)\r\n",
      "pickleshare (0.5)\r\n",
      "pip (7.1.2)\r\n",
      "ptyprocess (0.5)\r\n",
      "Pygments (2.0.2)\r\n",
      "pyparsing (2.0.6)\r\n",
      "python-dateutil (2.4.2)\r\n",
      "pytz (2015.7)\r\n",
      "pyzmq (15.0.0)\r\n",
      "qtconsole (4.1.0)\r\n",
      "scipy (0.16.1)\r\n",
      "setuptools (18.2)\r\n",
      "simplegeneric (0.8.1)\r\n",
      "singledispatch (3.4.0.3)\r\n",
      "six (1.10.0)\r\n",
      "terminado (0.5)\r\n",
      "tornado (4.3)\r\n",
      "traitlets (4.0.0)\r\n",
      "urllib2 (0.1.13)\r\n",
      "wheel (0.24.0)\r\n"
     ]
    }
   ],
   "source": [
    "!pip list"
   ]
  },
  {
   "cell_type": "markdown",
   "metadata": {},
   "source": [
    "You can see that pip has installed all of the required packages and their dependencies."
   ]
  },
  {
   "cell_type": "markdown",
   "metadata": {
    "collapsed": true
   },
   "source": [
    "## Saving the best for last: freezing your virtualenv\n",
    "\n",
    "Now remember how I was talking about how great virtualenvs were for reproducible research? An obvious problem you probably saw is that it is all well and good when you're running the analysis on the computer the virtualenv was created on. But how do you get access to someone else's virtualenv?\n",
    "\n",
    "Luckily, there is a super easy way to do this called **freezing**. This is simply where the full list of packages and their versions are exported as a .txt file. Freezing is executed like so:"
   ]
  },
  {
   "cell_type": "code",
   "execution_count": 17,
   "metadata": {
    "collapsed": true
   },
   "outputs": [],
   "source": [
    "!pip freeze > stable_requirements.txt"
   ]
  },
  {
   "cell_type": "markdown",
   "metadata": {},
   "source": [
    "In order to access this list of packages, you simply load the .txt file into a new virtualenv like so:"
   ]
  },
  {
   "cell_type": "code",
   "execution_count": null,
   "metadata": {
    "collapsed": true
   },
   "outputs": [],
   "source": [
    "!vf new reddit_api_2\n",
    "!pip install -r stable_requirements.txt"
   ]
  },
  {
   "cell_type": "markdown",
   "metadata": {},
   "source": [
    "This allows you to completely replicate the original virtualenv that the project was created in. The beauty of this method is that the .txt file can be stored with your script (in my case, a Jupyter notebook). For example, the script and list of dependencies can be in the same Github repo for you or others to download and install. In addition, any changes to the list of dependencies can be tracked using source control methods such as Git. This makes complete replication of your analysis seamless and fuss-free!"
   ]
  },
  {
   "cell_type": "markdown",
   "metadata": {},
   "source": [
    "And we're done setting up! We now have a virtualenv with all of our required packages and a way of exporting those packages and their versions to keep with our script for replication purposes. We are now ready to start extracting and processing our data, which we will get to next week."
   ]
  }
 ],
 "metadata": {
  "kernelspec": {
   "display_name": "Python 2",
   "language": "python",
   "name": "python2"
  },
  "language_info": {
   "codemirror_mode": {
    "name": "ipython",
    "version": 2
   },
   "file_extension": ".py",
   "mimetype": "text/x-python",
   "name": "python",
   "nbconvert_exporter": "python",
   "pygments_lexer": "ipython2",
   "version": "2.7.10"
  }
 },
 "nbformat": 4,
 "nbformat_minor": 0
}
