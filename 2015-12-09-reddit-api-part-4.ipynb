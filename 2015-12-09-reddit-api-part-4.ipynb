{
 "cells": [
  {
   "cell_type": "markdown",
   "metadata": {},
   "source": [
    "---\n",
    "title: Analysing reddit data - part 4: data analysis  \n",
    "date: 2015-12-09  \n",
    "comments: false  \n",
    "tags: Python, Programming tips, Public Data, Reddit API, pandas  \n",
    "keywords: python, programming, reproducible research  \n",
    "\n",
    "---\n",
    "\n",
    "In [last week's post]({filename}2015-11-18-reddit-api-part-1.md), we covered the basics of setting up our environment so we can extract data from reddit. Now it's time to start on the meat of this topic. This week I will show you how to use the reddit public API to retrieve JSON-encoded data from the subreddit /r/relationships, although this technique will translate to both the reddit mainpage and other subreddits. As I mentioned last week, this is aimed at people who are completely new to working with JSON data, so we will go through everything step-by-step."
   ]
  },
  {
   "cell_type": "code",
   "execution_count": 5,
   "metadata": {
    "collapsed": false
   },
   "outputs": [
    {
     "ename": "KeyboardInterrupt",
     "evalue": "",
     "output_type": "error",
     "traceback": [
      "\u001b[0;31m---------------------------------------------------------------------------\u001b[0m",
      "\u001b[0;31mKeyboardInterrupt\u001b[0m                         Traceback (most recent call last)",
      "\u001b[0;32m<ipython-input-5-a0d869581193>\u001b[0m in \u001b[0;36m<module>\u001b[0;34m()\u001b[0m\n\u001b[1;32m     11\u001b[0m \u001b[0;34m\u001b[0m\u001b[0m\n\u001b[1;32m     12\u001b[0m \u001b[0;32mwhile\u001b[0m \u001b[0;34m(\u001b[0m\u001b[0mlen\u001b[0m\u001b[0;34m(\u001b[0m\u001b[0mdata_all\u001b[0m\u001b[0;34m)\u001b[0m \u001b[0;34m<=\u001b[0m \u001b[0;36m1000\u001b[0m\u001b[0;34m)\u001b[0m\u001b[0;34m:\u001b[0m\u001b[0;34m\u001b[0m\u001b[0m\n\u001b[0;32m---> 13\u001b[0;31m     \u001b[0mtime\u001b[0m\u001b[0;34m.\u001b[0m\u001b[0msleep\u001b[0m\u001b[0;34m(\u001b[0m\u001b[0;36m2\u001b[0m\u001b[0;34m)\u001b[0m\u001b[0;34m\u001b[0m\u001b[0m\n\u001b[0m\u001b[1;32m     14\u001b[0m     \u001b[0mlast\u001b[0m \u001b[0;34m=\u001b[0m \u001b[0mdata_all\u001b[0m\u001b[0;34m[\u001b[0m\u001b[0;34m-\u001b[0m\u001b[0;36m1\u001b[0m\u001b[0;34m]\u001b[0m\u001b[0;34m[\u001b[0m\u001b[0;34m'data'\u001b[0m\u001b[0;34m]\u001b[0m\u001b[0;34m[\u001b[0m\u001b[0;34m'name'\u001b[0m\u001b[0;34m]\u001b[0m\u001b[0;34m\u001b[0m\u001b[0m\n\u001b[1;32m     15\u001b[0m     \u001b[0murl\u001b[0m \u001b[0;34m=\u001b[0m \u001b[0;34m'https://www.reddit.com/r/relationships/top/.json?sort=top&t=all&limit=100&after=%s'\u001b[0m \u001b[0;34m%\u001b[0m \u001b[0mlast\u001b[0m\u001b[0;34m\u001b[0m\u001b[0m\n",
      "\u001b[0;31mKeyboardInterrupt\u001b[0m: "
     ]
    }
   ],
   "source": [
    "import urllib2\n",
    "import json\n",
    "import time\n",
    "\n",
    "hdr = {'User-Agent': 'osx:r/relationships.multiple.results:v1.0 (by /u/PopularCactus)'}\n",
    "url = 'https://www.reddit.com/r/relationships/top/.json?sort=top&t=all&limit=100'\n",
    "req = urllib2.Request(url, headers=hdr)\n",
    "text_data = urllib2.urlopen(req).read()\n",
    "data = json.loads(text_data)\n",
    "data_all = data.values()[1]['children']\n",
    "\n",
    "while (len(data_all) <= 1000):\n",
    "    time.sleep(2)\n",
    "    last = data_all[-1]['data']['name']\n",
    "    url = 'https://www.reddit.com/r/relationships/top/.json?sort=top&t=all&limit=100&after=%s' % last\n",
    "    req = urllib2.Request(url, headers=hdr)\n",
    "    text_data = urllib2.urlopen(req).read()\n",
    "    data = json.loads(text_data)\n",
    "    data_all += data.values()[1]['children']"
   ]
  },
  {
   "cell_type": "code",
   "execution_count": 6,
   "metadata": {
    "collapsed": false
   },
   "outputs": [
    {
     "data": {
      "text/plain": [
       "1000"
      ]
     },
     "execution_count": 6,
     "metadata": {},
     "output_type": "execute_result"
    }
   ],
   "source": [
    "len(data_all)"
   ]
  },
  {
   "cell_type": "code",
   "execution_count": 7,
   "metadata": {
    "collapsed": true
   },
   "outputs": [],
   "source": [
    "article_title = []\n",
    "article_flairs = []\n",
    "article_date = []\n",
    "article_comments = []\n",
    "article_score = []\n",
    "\n",
    "for i in range(0, len(data_all)):\n",
    "    article_title.append(data_all[i]['data']['title'])\n",
    "    article_flairs.append(data_all[i]['data']['link_flair_text'])\n",
    "    article_date.append(data_all[i]['data']['created_utc'])\n",
    "    article_comments.append(data_all[i]['data']['num_comments'])\n",
    "    article_score.append(data_all[i]['data']['score'])"
   ]
  },
  {
   "cell_type": "code",
   "execution_count": 8,
   "metadata": {
    "collapsed": true
   },
   "outputs": [],
   "source": [
    "import numpy as np\n",
    "from pandas import Series, DataFrame\n",
    "import pandas as pd\n",
    "\n",
    "rel_df = DataFrame({'Date': article_date,\n",
    "                    'Title': article_title,\n",
    "                    'Flair': article_flairs,\n",
    "                    'Comments': article_comments,\n",
    "                    'Score': article_score})\n",
    "rel_df = rel_df[['Date', 'Title', 'Flair', 'Comments', 'Score']]"
   ]
  },
  {
   "cell_type": "code",
   "execution_count": 9,
   "metadata": {
    "collapsed": false
   },
   "outputs": [
    {
     "data": {
      "text/html": [
       "<div>\n",
       "<table border=\"1\" class=\"dataframe\">\n",
       "  <thead>\n",
       "    <tr style=\"text-align: right;\">\n",
       "      <th></th>\n",
       "      <th>Date</th>\n",
       "      <th>Title</th>\n",
       "      <th>Flair</th>\n",
       "      <th>Comments</th>\n",
       "      <th>Score</th>\n",
       "    </tr>\n",
       "  </thead>\n",
       "  <tbody>\n",
       "    <tr>\n",
       "      <th>0</th>\n",
       "      <td>1440187622</td>\n",
       "      <td>[UPDATE]My [26 F] with my husband [29 M] 1 yea...</td>\n",
       "      <td>Updates</td>\n",
       "      <td>908</td>\n",
       "      <td>7843</td>\n",
       "    </tr>\n",
       "    <tr>\n",
       "      <th>1</th>\n",
       "      <td>1438962646</td>\n",
       "      <td>Update: I [30 F] am sitting in the back of my ...</td>\n",
       "      <td>◉ Locked Post ◉</td>\n",
       "      <td>631</td>\n",
       "      <td>6038</td>\n",
       "    </tr>\n",
       "    <tr>\n",
       "      <th>2</th>\n",
       "      <td>1435026034</td>\n",
       "      <td>UPDATE: My fiancee (24F) has no bridesmaids an...</td>\n",
       "      <td>Updates</td>\n",
       "      <td>623</td>\n",
       "      <td>5548</td>\n",
       "    </tr>\n",
       "    <tr>\n",
       "      <th>3</th>\n",
       "      <td>1438393090</td>\n",
       "      <td>My [42M] daughter [17F] has been bullying a gi...</td>\n",
       "      <td>◉ Locked Post ◉</td>\n",
       "      <td>970</td>\n",
       "      <td>5301</td>\n",
       "    </tr>\n",
       "    <tr>\n",
       "      <th>4</th>\n",
       "      <td>1440543117</td>\n",
       "      <td>[Update] My [26F] fiance's [28M] ex-wife [28F]...</td>\n",
       "      <td>Updates</td>\n",
       "      <td>767</td>\n",
       "      <td>5195</td>\n",
       "    </tr>\n",
       "  </tbody>\n",
       "</table>\n",
       "</div>"
      ],
      "text/plain": [
       "         Date                                              Title  \\\n",
       "0  1440187622  [UPDATE]My [26 F] with my husband [29 M] 1 yea...   \n",
       "1  1438962646  Update: I [30 F] am sitting in the back of my ...   \n",
       "2  1435026034  UPDATE: My fiancee (24F) has no bridesmaids an...   \n",
       "3  1438393090  My [42M] daughter [17F] has been bullying a gi...   \n",
       "4  1440543117  [Update] My [26F] fiance's [28M] ex-wife [28F]...   \n",
       "\n",
       "             Flair  Comments  Score  \n",
       "0          Updates       908   7843  \n",
       "1  ◉ Locked Post ◉       631   6038  \n",
       "2          Updates       623   5548  \n",
       "3  ◉ Locked Post ◉       970   5301  \n",
       "4          Updates       767   5195  "
      ]
     },
     "execution_count": 9,
     "metadata": {},
     "output_type": "execute_result"
    }
   ],
   "source": [
    "rel_df[:5]"
   ]
  },
  {
   "cell_type": "markdown",
   "metadata": {},
   "source": [
    "## Cleaning the data\n",
    "\n",
    "As I pointed out in the last blog post, there are two immediately obvious issues with these data. The first is that the date is in [Unix or Epoch time](https://en.wikipedia.org/wiki/Unix_time), which represents the number of seconds that have passed since 1 January 1970. In order to convert this into a datetime format, we simply do the following:"
   ]
  },
  {
   "cell_type": "code",
   "execution_count": 10,
   "metadata": {
    "collapsed": false
   },
   "outputs": [
    {
     "data": {
      "text/html": [
       "<div>\n",
       "<table border=\"1\" class=\"dataframe\">\n",
       "  <thead>\n",
       "    <tr style=\"text-align: right;\">\n",
       "      <th></th>\n",
       "      <th>Date</th>\n",
       "      <th>Title</th>\n",
       "      <th>Flair</th>\n",
       "      <th>Comments</th>\n",
       "      <th>Score</th>\n",
       "    </tr>\n",
       "  </thead>\n",
       "  <tbody>\n",
       "    <tr>\n",
       "      <th>0</th>\n",
       "      <td>2015-08-21 20:07:02</td>\n",
       "      <td>[UPDATE]My [26 F] with my husband [29 M] 1 yea...</td>\n",
       "      <td>Updates</td>\n",
       "      <td>908</td>\n",
       "      <td>7843</td>\n",
       "    </tr>\n",
       "    <tr>\n",
       "      <th>1</th>\n",
       "      <td>2015-08-07 15:50:46</td>\n",
       "      <td>Update: I [30 F] am sitting in the back of my ...</td>\n",
       "      <td>◉ Locked Post ◉</td>\n",
       "      <td>631</td>\n",
       "      <td>6038</td>\n",
       "    </tr>\n",
       "    <tr>\n",
       "      <th>2</th>\n",
       "      <td>2015-06-23 02:20:34</td>\n",
       "      <td>UPDATE: My fiancee (24F) has no bridesmaids an...</td>\n",
       "      <td>Updates</td>\n",
       "      <td>623</td>\n",
       "      <td>5548</td>\n",
       "    </tr>\n",
       "    <tr>\n",
       "      <th>3</th>\n",
       "      <td>2015-08-01 01:38:10</td>\n",
       "      <td>My [42M] daughter [17F] has been bullying a gi...</td>\n",
       "      <td>◉ Locked Post ◉</td>\n",
       "      <td>970</td>\n",
       "      <td>5301</td>\n",
       "    </tr>\n",
       "    <tr>\n",
       "      <th>4</th>\n",
       "      <td>2015-08-25 22:51:57</td>\n",
       "      <td>[Update] My [26F] fiance's [28M] ex-wife [28F]...</td>\n",
       "      <td>Updates</td>\n",
       "      <td>767</td>\n",
       "      <td>5195</td>\n",
       "    </tr>\n",
       "  </tbody>\n",
       "</table>\n",
       "</div>"
      ],
      "text/plain": [
       "                 Date                                              Title  \\\n",
       "0 2015-08-21 20:07:02  [UPDATE]My [26 F] with my husband [29 M] 1 yea...   \n",
       "1 2015-08-07 15:50:46  Update: I [30 F] am sitting in the back of my ...   \n",
       "2 2015-06-23 02:20:34  UPDATE: My fiancee (24F) has no bridesmaids an...   \n",
       "3 2015-08-01 01:38:10  My [42M] daughter [17F] has been bullying a gi...   \n",
       "4 2015-08-25 22:51:57  [Update] My [26F] fiance's [28M] ex-wife [28F]...   \n",
       "\n",
       "             Flair  Comments  Score  \n",
       "0          Updates       908   7843  \n",
       "1  ◉ Locked Post ◉       631   6038  \n",
       "2          Updates       623   5548  \n",
       "3  ◉ Locked Post ◉       970   5301  \n",
       "4          Updates       767   5195  "
      ]
     },
     "execution_count": 10,
     "metadata": {},
     "output_type": "execute_result"
    }
   ],
   "source": [
    "rel_df['Date'] = pd.to_datetime((rel_df['Date'].values*1e9).astype(int))\n",
    "rel_df[:5]"
   ]
  },
  {
   "cell_type": "markdown",
   "metadata": {},
   "source": [
    "The other issue is that when posts become locked by the subreddit moderators, the original flair is replaced with \"Locked Post\". This is not really the most useful label as it doesn't give us any information about the topic. "
   ]
  },
  {
   "cell_type": "code",
   "execution_count": 11,
   "metadata": {
    "collapsed": false
   },
   "outputs": [
    {
     "data": {
      "text/plain": [
       "155"
      ]
     },
     "execution_count": 11,
     "metadata": {},
     "output_type": "execute_result"
    }
   ],
   "source": [
    "import re\n",
    "\n",
    "replace_value = rel_df['Flair'][1]\n",
    "rel_df['Flair'] = rel_df['Flair'].replace(replace_value, np.nan)\n",
    "\n",
    "rel_df['Flair'].isnull().sum()"
   ]
  },
  {
   "cell_type": "markdown",
   "metadata": {},
   "source": [
    "You can see a substantial number (16%) of flairs were replaced with \"Locked Post\", which means we have a large amount of missing data in this variable. However, we can recover some information by exploiting the fact that update posts usually have the word \"Update\" in the title. We can use a regex to check for whether \"Update\" is in the title, and if so, replace the flair with \"Updates\". We will replace any \"Locked Posts\" which do not meet our regex criteria with a missing value (NaN)."
   ]
  },
  {
   "cell_type": "code",
   "execution_count": 12,
   "metadata": {
    "collapsed": false
   },
   "outputs": [
    {
     "data": {
      "text/html": [
       "<div>\n",
       "<table border=\"1\" class=\"dataframe\">\n",
       "  <thead>\n",
       "    <tr style=\"text-align: right;\">\n",
       "      <th></th>\n",
       "      <th>Date</th>\n",
       "      <th>Title</th>\n",
       "      <th>Flair</th>\n",
       "      <th>Comments</th>\n",
       "      <th>Score</th>\n",
       "    </tr>\n",
       "  </thead>\n",
       "  <tbody>\n",
       "    <tr>\n",
       "      <th>0</th>\n",
       "      <td>2015-08-21 20:07:02</td>\n",
       "      <td>[UPDATE]My [26 F] with my husband [29 M] 1 yea...</td>\n",
       "      <td>Updates</td>\n",
       "      <td>908</td>\n",
       "      <td>7843</td>\n",
       "    </tr>\n",
       "    <tr>\n",
       "      <th>1</th>\n",
       "      <td>2015-08-07 15:50:46</td>\n",
       "      <td>Update: I [30 F] am sitting in the back of my ...</td>\n",
       "      <td>Updates</td>\n",
       "      <td>631</td>\n",
       "      <td>6038</td>\n",
       "    </tr>\n",
       "    <tr>\n",
       "      <th>2</th>\n",
       "      <td>2015-06-23 02:20:34</td>\n",
       "      <td>UPDATE: My fiancee (24F) has no bridesmaids an...</td>\n",
       "      <td>Updates</td>\n",
       "      <td>623</td>\n",
       "      <td>5548</td>\n",
       "    </tr>\n",
       "    <tr>\n",
       "      <th>3</th>\n",
       "      <td>2015-08-01 01:38:10</td>\n",
       "      <td>My [42M] daughter [17F] has been bullying a gi...</td>\n",
       "      <td>NaN</td>\n",
       "      <td>970</td>\n",
       "      <td>5301</td>\n",
       "    </tr>\n",
       "    <tr>\n",
       "      <th>4</th>\n",
       "      <td>2015-08-25 22:51:57</td>\n",
       "      <td>[Update] My [26F] fiance's [28M] ex-wife [28F]...</td>\n",
       "      <td>Updates</td>\n",
       "      <td>767</td>\n",
       "      <td>5195</td>\n",
       "    </tr>\n",
       "  </tbody>\n",
       "</table>\n",
       "</div>"
      ],
      "text/plain": [
       "                 Date                                              Title  \\\n",
       "0 2015-08-21 20:07:02  [UPDATE]My [26 F] with my husband [29 M] 1 yea...   \n",
       "1 2015-08-07 15:50:46  Update: I [30 F] am sitting in the back of my ...   \n",
       "2 2015-06-23 02:20:34  UPDATE: My fiancee (24F) has no bridesmaids an...   \n",
       "3 2015-08-01 01:38:10  My [42M] daughter [17F] has been bullying a gi...   \n",
       "4 2015-08-25 22:51:57  [Update] My [26F] fiance's [28M] ex-wife [28F]...   \n",
       "\n",
       "     Flair  Comments  Score  \n",
       "0  Updates       908   7843  \n",
       "1  Updates       631   6038  \n",
       "2  Updates       623   5548  \n",
       "3      NaN       970   5301  \n",
       "4  Updates       767   5195  "
      ]
     },
     "execution_count": 12,
     "metadata": {},
     "output_type": "execute_result"
    }
   ],
   "source": [
    "cond1 = rel_df['Title'].str.contains(\n",
    "    '^\\[?[a-z!?A-Z ]*UPDATE\\]?:?', flags = re.IGNORECASE)\n",
    "cond2 = rel_df['Flair'].isnull()\n",
    "\n",
    "rel_df.loc[(cond1 & cond2), 'Flair'] = rel_df.loc[(cond1 & cond2), 'Flair'].replace(np.nan, 'Updates')\n",
    "rel_df[:5]"
   ]
  },
  {
   "cell_type": "code",
   "execution_count": 13,
   "metadata": {
    "collapsed": false
   },
   "outputs": [
    {
     "data": {
      "text/plain": [
       "96"
      ]
     },
     "execution_count": 13,
     "metadata": {},
     "output_type": "execute_result"
    }
   ],
   "source": [
    "rel_df['Flair'].isnull().sum()"
   ]
  },
  {
   "cell_type": "markdown",
   "metadata": {},
   "source": [
    "You can see that we still have 10% of missing data in this variable, which is quite high. However, we have replaced some of the missing data in a robust manner. This should be bookmarked as a possible source of bias in our data for when we try and interpret our analyses."
   ]
  },
  {
   "cell_type": "markdown",
   "metadata": {},
   "source": [
    "## Extracting extra variables\n",
    "\n",
    "As you can see from how I replaced the flairs, there is information in the post title we can use. Another convention in posts on this subreddit is that posters are asked to include their age and sex in the title. For example, you can see in the first posts above that the poster lists this information in the format [26F], indicating they are a 26 year old woman. You can probably also see a pattern in how the posters information is nested in the title as well. Looking through the data, I picked out four words that precede the posters information: \"My\", \"I\", \"I'm\" and \"Me\". We can use (a pretty complicated) regex to extract this portion of the title:"
   ]
  },
  {
   "cell_type": "code",
   "execution_count": 14,
   "metadata": {
    "collapsed": false
   },
   "outputs": [
    {
     "data": {
      "text/plain": [
       "1    I [30 F]\n",
       "2     I (25m)\n",
       "3    My [42M]\n",
       "4    My [26F]\n",
       "Name: 0, dtype: object"
      ]
     },
     "execution_count": 14,
     "metadata": {},
     "output_type": "execute_result"
    }
   ],
   "source": [
    "poster_age_sex = rel_df['Title'].str.extract(\n",
    "    \"((i\\'m|i|my|me)\\s?(\\[|\\()(m|f)?(\\s|/)?[0-9]{1,2}(\\s|/)?([m,f]|male|female)?(\\]|\\)))\", \n",
    "        flags = re.IGNORECASE)[0]\n",
    "poster_age_sex[1:5]"
   ]
  },
  {
   "cell_type": "markdown",
   "metadata": {},
   "source": [
    "Let's now clean this up a bit by getting rid of the starting word, then pulling the age and sex out into separate variables, and adding them to the DataFrame."
   ]
  },
  {
   "cell_type": "code",
   "execution_count": 15,
   "metadata": {
    "collapsed": false
   },
   "outputs": [
    {
     "data": {
      "text/html": [
       "<div>\n",
       "<table border=\"1\" class=\"dataframe\">\n",
       "  <thead>\n",
       "    <tr style=\"text-align: right;\">\n",
       "      <th></th>\n",
       "      <th>Date</th>\n",
       "      <th>Title</th>\n",
       "      <th>Flair</th>\n",
       "      <th>Comments</th>\n",
       "      <th>Score</th>\n",
       "      <th>PosterAge</th>\n",
       "      <th>PosterSex</th>\n",
       "    </tr>\n",
       "  </thead>\n",
       "  <tbody>\n",
       "    <tr>\n",
       "      <th>0</th>\n",
       "      <td>2015-08-21 20:07:02</td>\n",
       "      <td>[UPDATE]My [26 F] with my husband [29 M] 1 yea...</td>\n",
       "      <td>Updates</td>\n",
       "      <td>908</td>\n",
       "      <td>7843</td>\n",
       "      <td>26</td>\n",
       "      <td>F</td>\n",
       "    </tr>\n",
       "    <tr>\n",
       "      <th>1</th>\n",
       "      <td>2015-08-07 15:50:46</td>\n",
       "      <td>Update: I [30 F] am sitting in the back of my ...</td>\n",
       "      <td>Updates</td>\n",
       "      <td>631</td>\n",
       "      <td>6038</td>\n",
       "      <td>30</td>\n",
       "      <td>F</td>\n",
       "    </tr>\n",
       "    <tr>\n",
       "      <th>2</th>\n",
       "      <td>2015-06-23 02:20:34</td>\n",
       "      <td>UPDATE: My fiancee (24F) has no bridesmaids an...</td>\n",
       "      <td>Updates</td>\n",
       "      <td>623</td>\n",
       "      <td>5548</td>\n",
       "      <td>25</td>\n",
       "      <td>M</td>\n",
       "    </tr>\n",
       "    <tr>\n",
       "      <th>3</th>\n",
       "      <td>2015-08-01 01:38:10</td>\n",
       "      <td>My [42M] daughter [17F] has been bullying a gi...</td>\n",
       "      <td>NaN</td>\n",
       "      <td>970</td>\n",
       "      <td>5301</td>\n",
       "      <td>42</td>\n",
       "      <td>M</td>\n",
       "    </tr>\n",
       "    <tr>\n",
       "      <th>4</th>\n",
       "      <td>2015-08-25 22:51:57</td>\n",
       "      <td>[Update] My [26F] fiance's [28M] ex-wife [28F]...</td>\n",
       "      <td>Updates</td>\n",
       "      <td>767</td>\n",
       "      <td>5195</td>\n",
       "      <td>26</td>\n",
       "      <td>F</td>\n",
       "    </tr>\n",
       "  </tbody>\n",
       "</table>\n",
       "</div>"
      ],
      "text/plain": [
       "                 Date                                              Title  \\\n",
       "0 2015-08-21 20:07:02  [UPDATE]My [26 F] with my husband [29 M] 1 yea...   \n",
       "1 2015-08-07 15:50:46  Update: I [30 F] am sitting in the back of my ...   \n",
       "2 2015-06-23 02:20:34  UPDATE: My fiancee (24F) has no bridesmaids an...   \n",
       "3 2015-08-01 01:38:10  My [42M] daughter [17F] has been bullying a gi...   \n",
       "4 2015-08-25 22:51:57  [Update] My [26F] fiance's [28M] ex-wife [28F]...   \n",
       "\n",
       "     Flair  Comments  Score  PosterAge PosterSex  \n",
       "0  Updates       908   7843         26         F  \n",
       "1  Updates       631   6038         30         F  \n",
       "2  Updates       623   5548         25         M  \n",
       "3      NaN       970   5301         42         M  \n",
       "4  Updates       767   5195         26         F  "
      ]
     },
     "execution_count": 15,
     "metadata": {},
     "output_type": "execute_result"
    }
   ],
   "source": [
    "poster_age_sex = poster_age_sex.str.replace(\"((i\\'m|i|my|me))\\s?\", \"\", flags = re.IGNORECASE)\n",
    "poster_age = poster_age_sex.str.extract('([0-9]{1,2})')\n",
    "poster_sex = poster_age_sex.str.extract('([m,f])', flags = re.IGNORECASE)\n",
    "\n",
    "rel_df['PosterAge'] = pd.to_numeric(poster_age)\n",
    "rel_df['PosterSex'] = poster_sex.str.upper()\n",
    "\n",
    "rel_df[:5]"
   ]
  },
  {
   "cell_type": "markdown",
   "metadata": {},
   "source": [
    "We'll end this section by checking for missing values in our new PosterAge and PosterSex variables."
   ]
  },
  {
   "cell_type": "code",
   "execution_count": 16,
   "metadata": {
    "collapsed": false
   },
   "outputs": [
    {
     "data": {
      "text/plain": [
       "91"
      ]
     },
     "execution_count": 16,
     "metadata": {},
     "output_type": "execute_result"
    }
   ],
   "source": [
    "rel_df['PosterAge'].isnull().sum()"
   ]
  },
  {
   "cell_type": "code",
   "execution_count": 17,
   "metadata": {
    "collapsed": false
   },
   "outputs": [
    {
     "data": {
      "text/plain": [
       "103"
      ]
     },
     "execution_count": 17,
     "metadata": {},
     "output_type": "execute_result"
    }
   ],
   "source": [
    "rel_df['PosterSex'].isnull().sum()"
   ]
  },
  {
   "cell_type": "markdown",
   "metadata": {},
   "source": [
    "Again, these variables have fairly high amounts of missing data (9% for age 10% for sex). This is another possible source of bias to keep in mind."
   ]
  },
  {
   "cell_type": "markdown",
   "metadata": {},
   "source": [
    "Finally, we can use the date variable to obtain the day of the week that the post was created:"
   ]
  },
  {
   "cell_type": "code",
   "execution_count": 18,
   "metadata": {
    "collapsed": false
   },
   "outputs": [
    {
     "data": {
      "text/html": [
       "<div>\n",
       "<table border=\"1\" class=\"dataframe\">\n",
       "  <thead>\n",
       "    <tr style=\"text-align: right;\">\n",
       "      <th></th>\n",
       "      <th>Date</th>\n",
       "      <th>Title</th>\n",
       "      <th>Flair</th>\n",
       "      <th>Comments</th>\n",
       "      <th>Score</th>\n",
       "      <th>PosterAge</th>\n",
       "      <th>PosterSex</th>\n",
       "      <th>DayOfWeek</th>\n",
       "    </tr>\n",
       "  </thead>\n",
       "  <tbody>\n",
       "    <tr>\n",
       "      <th>0</th>\n",
       "      <td>2015-08-21 20:07:02</td>\n",
       "      <td>[UPDATE]My [26 F] with my husband [29 M] 1 yea...</td>\n",
       "      <td>Updates</td>\n",
       "      <td>908</td>\n",
       "      <td>7843</td>\n",
       "      <td>26</td>\n",
       "      <td>F</td>\n",
       "      <td>Fri</td>\n",
       "    </tr>\n",
       "    <tr>\n",
       "      <th>1</th>\n",
       "      <td>2015-08-07 15:50:46</td>\n",
       "      <td>Update: I [30 F] am sitting in the back of my ...</td>\n",
       "      <td>Updates</td>\n",
       "      <td>631</td>\n",
       "      <td>6038</td>\n",
       "      <td>30</td>\n",
       "      <td>F</td>\n",
       "      <td>Fri</td>\n",
       "    </tr>\n",
       "    <tr>\n",
       "      <th>2</th>\n",
       "      <td>2015-06-23 02:20:34</td>\n",
       "      <td>UPDATE: My fiancee (24F) has no bridesmaids an...</td>\n",
       "      <td>Updates</td>\n",
       "      <td>623</td>\n",
       "      <td>5548</td>\n",
       "      <td>25</td>\n",
       "      <td>M</td>\n",
       "      <td>Tues</td>\n",
       "    </tr>\n",
       "    <tr>\n",
       "      <th>3</th>\n",
       "      <td>2015-08-01 01:38:10</td>\n",
       "      <td>My [42M] daughter [17F] has been bullying a gi...</td>\n",
       "      <td>NaN</td>\n",
       "      <td>970</td>\n",
       "      <td>5301</td>\n",
       "      <td>42</td>\n",
       "      <td>M</td>\n",
       "      <td>Sat</td>\n",
       "    </tr>\n",
       "    <tr>\n",
       "      <th>4</th>\n",
       "      <td>2015-08-25 22:51:57</td>\n",
       "      <td>[Update] My [26F] fiance's [28M] ex-wife [28F]...</td>\n",
       "      <td>Updates</td>\n",
       "      <td>767</td>\n",
       "      <td>5195</td>\n",
       "      <td>26</td>\n",
       "      <td>F</td>\n",
       "      <td>Tues</td>\n",
       "    </tr>\n",
       "  </tbody>\n",
       "</table>\n",
       "</div>"
      ],
      "text/plain": [
       "                 Date                                              Title  \\\n",
       "0 2015-08-21 20:07:02  [UPDATE]My [26 F] with my husband [29 M] 1 yea...   \n",
       "1 2015-08-07 15:50:46  Update: I [30 F] am sitting in the back of my ...   \n",
       "2 2015-06-23 02:20:34  UPDATE: My fiancee (24F) has no bridesmaids an...   \n",
       "3 2015-08-01 01:38:10  My [42M] daughter [17F] has been bullying a gi...   \n",
       "4 2015-08-25 22:51:57  [Update] My [26F] fiance's [28M] ex-wife [28F]...   \n",
       "\n",
       "     Flair  Comments  Score  PosterAge PosterSex DayOfWeek  \n",
       "0  Updates       908   7843         26         F       Fri  \n",
       "1  Updates       631   6038         30         F       Fri  \n",
       "2  Updates       623   5548         25         M      Tues  \n",
       "3      NaN       970   5301         42         M       Sat  \n",
       "4  Updates       767   5195         26         F      Tues  "
      ]
     },
     "execution_count": 18,
     "metadata": {},
     "output_type": "execute_result"
    }
   ],
   "source": [
    "rel_df['DayOfWeek'] = rel_df['Date'].dt.dayofweek\n",
    "days = {0: 'Mon', 1: 'Tues', 2: 'Weds', 3: 'Thurs', 4: 'Fri',\n",
    "        5: 'Sat', 6: 'Sun'}\n",
    "rel_df['DayOfWeek'] = rel_df['DayOfWeek'].apply(lambda x: days[x])\n",
    "\n",
    "rel_df[:5]"
   ]
  },
  {
   "cell_type": "markdown",
   "metadata": {},
   "source": [
    "Checking for missing data, we (predictibly) find that no values are missing (due to the fact that every date is present):"
   ]
  },
  {
   "cell_type": "code",
   "execution_count": 19,
   "metadata": {
    "collapsed": false
   },
   "outputs": [
    {
     "data": {
      "text/plain": [
       "0"
      ]
     },
     "execution_count": 19,
     "metadata": {},
     "output_type": "execute_result"
    }
   ],
   "source": [
    "rel_df['DayOfWeek'].isnull().sum()"
   ]
  },
  {
   "cell_type": "markdown",
   "metadata": {},
   "source": [
    "## Descriptives\n",
    "\n",
    "The starting point of any analysis is examining each of the variables, either using summary statistics (descriptives) or graphically. Let's start with the PosterAge. We can see we have 909 data points for this variable, and that posters are a median of 26 years old (IQR: 23, 29)."
   ]
  },
  {
   "cell_type": "code",
   "execution_count": 20,
   "metadata": {
    "collapsed": false
   },
   "outputs": [
    {
     "data": {
      "text/plain": [
       "count    909.000000\n",
       "mean      26.698570\n",
       "std        6.323285\n",
       "min       13.000000\n",
       "25%       23.000000\n",
       "50%       26.000000\n",
       "75%       29.000000\n",
       "max       57.000000\n",
       "Name: PosterAge, dtype: float64"
      ]
     },
     "execution_count": 20,
     "metadata": {},
     "output_type": "execute_result"
    }
   ],
   "source": [
    "rel_df['PosterAge'].describe()"
   ]
  },
  {
   "cell_type": "markdown",
   "metadata": {},
   "source": [
    "Looking at PosterSex, we can see that we have 897 data points for this variable. 542 of the posters are female (60% of non-missing values), and 355 are male (40%)."
   ]
  },
  {
   "cell_type": "code",
   "execution_count": 21,
   "metadata": {
    "collapsed": false
   },
   "outputs": [
    {
     "data": {
      "text/plain": [
       "897"
      ]
     },
     "execution_count": 21,
     "metadata": {},
     "output_type": "execute_result"
    }
   ],
   "source": [
    "rel_df['PosterSex'].notnull().sum()"
   ]
  },
  {
   "cell_type": "code",
   "execution_count": 22,
   "metadata": {
    "collapsed": false
   },
   "outputs": [
    {
     "data": {
      "text/plain": [
       "F    542\n",
       "M    355\n",
       "Name: PosterSex, dtype: int64"
      ]
     },
     "execution_count": 22,
     "metadata": {},
     "output_type": "execute_result"
    }
   ],
   "source": [
    "rel_df['PosterSex'].value_counts()"
   ]
  },
  {
   "cell_type": "code",
   "execution_count": 23,
   "metadata": {
    "collapsed": false
   },
   "outputs": [
    {
     "data": {
      "text/plain": [
       "F    60.423634\n",
       "M    39.576366\n",
       "Name: PosterSex, dtype: float64"
      ]
     },
     "execution_count": 23,
     "metadata": {},
     "output_type": "execute_result"
    }
   ],
   "source": [
    "100 * rel_df['PosterSex'].value_counts() / rel_df['PosterSex'].notnull().sum()"
   ]
  },
  {
   "cell_type": "markdown",
   "metadata": {},
   "source": [
    "In Flairs, we have 904 number of data points. The most common flair is \"Updates\" (516 posts, or 57%), and the least common is \"Dating\" (3, > 1%)."
   ]
  },
  {
   "cell_type": "code",
   "execution_count": 24,
   "metadata": {
    "collapsed": false
   },
   "outputs": [
    {
     "data": {
      "text/plain": [
       "904"
      ]
     },
     "execution_count": 24,
     "metadata": {},
     "output_type": "execute_result"
    }
   ],
   "source": [
    "rel_df['Flair'].notnull().sum()"
   ]
  },
  {
   "cell_type": "code",
   "execution_count": 25,
   "metadata": {
    "collapsed": false
   },
   "outputs": [
    {
     "data": {
      "text/plain": [
       "Updates            516\n",
       "Relationships      161\n",
       "Non-Romantic       158\n",
       "Infidelity          38\n",
       "Breakups            15\n",
       "Personal issues     13\n",
       "Dating               3\n",
       "Name: Flair, dtype: int64"
      ]
     },
     "execution_count": 25,
     "metadata": {},
     "output_type": "execute_result"
    }
   ],
   "source": [
    "rel_df['Flair'].value_counts()"
   ]
  },
  {
   "cell_type": "code",
   "execution_count": 26,
   "metadata": {
    "collapsed": false
   },
   "outputs": [
    {
     "data": {
      "text/plain": [
       "Updates            57.079646\n",
       "Relationships      17.809735\n",
       "Non-Romantic       17.477876\n",
       "Infidelity          4.203540\n",
       "Breakups            1.659292\n",
       "Personal issues     1.438053\n",
       "Dating              0.331858\n",
       "Name: Flair, dtype: float64"
      ]
     },
     "execution_count": 26,
     "metadata": {},
     "output_type": "execute_result"
    }
   ],
   "source": [
    "100 * rel_df['Flair'].value_counts() / rel_df['Flair'].notnull().sum()"
   ]
  },
  {
   "cell_type": "markdown",
   "metadata": {},
   "source": [
    "Examining the overall score per post, we can see that we have all 1,000 data points, and the median score per post is 1,225 (IQR: 961, 1,761)."
   ]
  },
  {
   "cell_type": "code",
   "execution_count": 27,
   "metadata": {
    "collapsed": false
   },
   "outputs": [
    {
     "data": {
      "text/plain": [
       "count    1000.00000\n",
       "mean     1511.58000\n",
       "std       822.78436\n",
       "min       792.00000\n",
       "25%       963.00000\n",
       "50%      1224.50000\n",
       "75%      1762.00000\n",
       "max      7843.00000\n",
       "Name: Score, dtype: float64"
      ]
     },
     "execution_count": 27,
     "metadata": {},
     "output_type": "execute_result"
    }
   ],
   "source": [
    "rel_df['Score'].describe()"
   ]
  },
  {
   "cell_type": "markdown",
   "metadata": {},
   "source": [
    "Similarly, the 'Comments' variable has all 1,000 data points. The median number of comments per post is 269 (IQR: 161, 421)."
   ]
  },
  {
   "cell_type": "code",
   "execution_count": 28,
   "metadata": {
    "collapsed": false
   },
   "outputs": [
    {
     "data": {
      "text/plain": [
       "count    1000.000000\n",
       "mean      318.964000\n",
       "std       219.461632\n",
       "min        15.000000\n",
       "25%       161.000000\n",
       "50%       269.000000\n",
       "75%       421.250000\n",
       "max      1693.000000\n",
       "Name: Comments, dtype: float64"
      ]
     },
     "execution_count": 28,
     "metadata": {},
     "output_type": "execute_result"
    }
   ],
   "source": [
    "rel_df['Comments'].describe()"
   ]
  },
  {
   "cell_type": "markdown",
   "metadata": {},
   "source": [
    "Finally, let's have a look at the day of the week the post was created. We already know it has all 1,000 data points, so we don't have to check that again. We can see that the highest number of the most popular posts were created during the week, with around 15% of all posts on each of the weekdays. In contrast, Sunday was the quietest day for popular posts."
   ]
  },
  {
   "cell_type": "code",
   "execution_count": 29,
   "metadata": {
    "collapsed": false
   },
   "outputs": [
    {
     "data": {
      "text/plain": [
       "Tues     156\n",
       "Weds     155\n",
       "Mon      155\n",
       "Thurs    154\n",
       "Fri      148\n",
       "Sun      121\n",
       "Sat      111\n",
       "Name: DayOfWeek, dtype: int64"
      ]
     },
     "execution_count": 29,
     "metadata": {},
     "output_type": "execute_result"
    }
   ],
   "source": [
    "rel_df['DayOfWeek'].value_counts()"
   ]
  },
  {
   "cell_type": "code",
   "execution_count": 30,
   "metadata": {
    "collapsed": false
   },
   "outputs": [
    {
     "data": {
      "text/plain": [
       "Tues     15.6\n",
       "Weds     15.5\n",
       "Mon      15.5\n",
       "Thurs    15.4\n",
       "Fri      14.8\n",
       "Sun      12.1\n",
       "Sat      11.1\n",
       "Name: DayOfWeek, dtype: float64"
      ]
     },
     "execution_count": 30,
     "metadata": {},
     "output_type": "execute_result"
    }
   ],
   "source": [
    "100 * rel_df['DayOfWeek'].value_counts() / rel_df['DayOfWeek'].notnull().sum()"
   ]
  },
  {
   "cell_type": "markdown",
   "metadata": {},
   "source": [
    "## Some basic inferential statistics\n",
    "\n",
    "Now that we've looked at our variables, we see that there might be some interesting patterns we could analyse. \n",
    "\n",
    "The first thing we can look at is the behaviour of posters on the site. Let's have a look at two questions to do with this.\n",
    "\n",
    "### Does the age distribution vary by sex?\n",
    "\n",
    "\n",
    "\n",
    "### Poster behaviour\n",
    "- Does the age distribution vary for men and women? (Chi-sq)\n",
    "- Are certain topics more likely on different days of the week? (Chi-sq)\n",
    "\n",
    "### Reader behaviour\n",
    "- Are certain topics more popular (higher score and more comments)\n",
    "- Are certain days of the week more popular (higher score and more comments)\n",
    "\n",
    "## Interpretations and bias\n",
    "- These are only the most popular posts, so they are not representative of the general pattern of behaviour on the site.\n",
    "- Possible sources of bias include missing data on flairs (and decision to replace flairs may have increased that bias as data for the rest of the flairs is still missing), and missing sex and age information. There may be characteristics about people who don't format their titles properly (with suggested age/sex format) and the type of post (more distressed, possibly?)."
   ]
  },
  {
   "cell_type": "code",
   "execution_count": 36,
   "metadata": {
    "collapsed": false
   },
   "outputs": [
    {
     "data": {
      "text/plain": [
       "PosterSex\n",
       "F    25.5\n",
       "M    27.0\n",
       "Name: PosterAge, dtype: float64"
      ]
     },
     "execution_count": 36,
     "metadata": {},
     "output_type": "execute_result"
    }
   ],
   "source": [
    "rel_df['PosterAge'].groupby([rel_df['PosterSex']]).median()"
   ]
  },
  {
   "cell_type": "code",
   "execution_count": 204,
   "metadata": {
    "collapsed": false
   },
   "outputs": [
    {
     "name": "stdout",
     "output_type": "stream",
     "text": [
      "The test statistic is 11.220, and the significance level is 0.001.\n"
     ]
    }
   ],
   "source": [
    "from scipy import stats  \n",
    "\n",
    "d = {}\n",
    "for key, value in rel_df.groupby('PosterSex'):\n",
    "        d['%s' % key] = value['PosterAge']\n",
    "\n",
    "z_stat, p_val = stats.mstats.kruskalwallis(d['F'], d['M'])\n",
    "print \"The test statistic is %1.3f, and the significance level is %1.3f.\" % (z_stat, p_val)"
   ]
  },
  {
   "cell_type": "code",
   "execution_count": 95,
   "metadata": {
    "collapsed": false
   },
   "outputs": [
    {
     "data": {
      "text/html": [
       "<div>\n",
       "<table border=\"1\" class=\"dataframe\">\n",
       "  <thead>\n",
       "    <tr style=\"text-align: right;\">\n",
       "      <th>Poster Sex</th>\n",
       "      <th>F</th>\n",
       "      <th>M</th>\n",
       "    </tr>\n",
       "    <tr>\n",
       "      <th>Flair</th>\n",
       "      <th></th>\n",
       "      <th></th>\n",
       "    </tr>\n",
       "  </thead>\n",
       "  <tbody>\n",
       "    <tr>\n",
       "      <th>Infidelity</th>\n",
       "      <td>15</td>\n",
       "      <td>17</td>\n",
       "    </tr>\n",
       "    <tr>\n",
       "      <th>Non-Romantic</th>\n",
       "      <td>108</td>\n",
       "      <td>38</td>\n",
       "    </tr>\n",
       "    <tr>\n",
       "      <th>Relationships</th>\n",
       "      <td>82</td>\n",
       "      <td>68</td>\n",
       "    </tr>\n",
       "    <tr>\n",
       "      <th>Updates</th>\n",
       "      <td>284</td>\n",
       "      <td>175</td>\n",
       "    </tr>\n",
       "  </tbody>\n",
       "</table>\n",
       "</div>"
      ],
      "text/plain": [
       "Poster Sex       F    M\n",
       "Flair                  \n",
       "Infidelity      15   17\n",
       "Non-Romantic   108   38\n",
       "Relationships   82   68\n",
       "Updates        284  175"
      ]
     },
     "execution_count": 95,
     "metadata": {},
     "output_type": "execute_result"
    }
   ],
   "source": [
    "sex_flair = pd.crosstab(rel_df['Flair'], rel_df['PosterSex'], \n",
    "            rownames = ['Flair'], colnames=['Poster Sex']).ix[\n",
    "    ['Infidelity', 'Non-Romantic', 'Relationships', 'Updates']]\n",
    "sex_flair"
   ]
  },
  {
   "cell_type": "code",
   "execution_count": 102,
   "metadata": {
    "collapsed": false
   },
   "outputs": [
    {
     "data": {
      "text/html": [
       "<div>\n",
       "<table border=\"1\" class=\"dataframe\">\n",
       "  <thead>\n",
       "    <tr style=\"text-align: right;\">\n",
       "      <th>Poster Sex</th>\n",
       "      <th>F</th>\n",
       "      <th>M</th>\n",
       "    </tr>\n",
       "    <tr>\n",
       "      <th>Flair</th>\n",
       "      <th></th>\n",
       "      <th></th>\n",
       "    </tr>\n",
       "  </thead>\n",
       "  <tbody>\n",
       "    <tr>\n",
       "      <th>Infidelity</th>\n",
       "      <td>3.067485</td>\n",
       "      <td>5.704698</td>\n",
       "    </tr>\n",
       "    <tr>\n",
       "      <th>Non-Romantic</th>\n",
       "      <td>22.085890</td>\n",
       "      <td>12.751678</td>\n",
       "    </tr>\n",
       "    <tr>\n",
       "      <th>Relationships</th>\n",
       "      <td>16.768916</td>\n",
       "      <td>22.818792</td>\n",
       "    </tr>\n",
       "    <tr>\n",
       "      <th>Updates</th>\n",
       "      <td>58.077710</td>\n",
       "      <td>58.724832</td>\n",
       "    </tr>\n",
       "  </tbody>\n",
       "</table>\n",
       "</div>"
      ],
      "text/plain": [
       "Poster Sex             F          M\n",
       "Flair                              \n",
       "Infidelity      3.067485   5.704698\n",
       "Non-Romantic   22.085890  12.751678\n",
       "Relationships  16.768916  22.818792\n",
       "Updates        58.077710  58.724832"
      ]
     },
     "execution_count": 102,
     "metadata": {},
     "output_type": "execute_result"
    }
   ],
   "source": [
    "sex_flair.apply(lambda c: c/c.sum() * 100, axis=0)"
   ]
  },
  {
   "cell_type": "code",
   "execution_count": 98,
   "metadata": {
    "collapsed": false
   },
   "outputs": [
    {
     "name": "stdout",
     "output_type": "stream",
     "text": [
      "The test statistic is 15.432, and the significance level is 0.001.\n"
     ]
    }
   ],
   "source": [
    "chi2, p_val, df, exp_vals = stats.chi2_contingency(sex_flair)\n",
    "print \"The test statistic is %1.3f, and the significance level is %1.3f.\" % (chi2, p_val)"
   ]
  },
  {
   "cell_type": "code",
   "execution_count": 117,
   "metadata": {
    "collapsed": false
   },
   "outputs": [
    {
     "data": {
      "text/html": [
       "<div>\n",
       "<table border=\"1\" class=\"dataframe\">\n",
       "  <thead>\n",
       "    <tr style=\"text-align: right;\">\n",
       "      <th></th>\n",
       "      <th>Score</th>\n",
       "      <th>Comments</th>\n",
       "    </tr>\n",
       "    <tr>\n",
       "      <th>Flair</th>\n",
       "      <th></th>\n",
       "      <th></th>\n",
       "    </tr>\n",
       "  </thead>\n",
       "  <tbody>\n",
       "    <tr>\n",
       "      <th>Infidelity</th>\n",
       "      <td>1145.5</td>\n",
       "      <td>320.0</td>\n",
       "    </tr>\n",
       "    <tr>\n",
       "      <th>Non-Romantic</th>\n",
       "      <td>1147.0</td>\n",
       "      <td>317.0</td>\n",
       "    </tr>\n",
       "    <tr>\n",
       "      <th>Relationships</th>\n",
       "      <td>1126.0</td>\n",
       "      <td>400.0</td>\n",
       "    </tr>\n",
       "    <tr>\n",
       "      <th>Updates</th>\n",
       "      <td>1285.5</td>\n",
       "      <td>200.5</td>\n",
       "    </tr>\n",
       "  </tbody>\n",
       "</table>\n",
       "</div>"
      ],
      "text/plain": [
       "                Score  Comments\n",
       "Flair                          \n",
       "Infidelity     1145.5     320.0\n",
       "Non-Romantic   1147.0     317.0\n",
       "Relationships  1126.0     400.0\n",
       "Updates        1285.5     200.5"
      ]
     },
     "execution_count": 117,
     "metadata": {},
     "output_type": "execute_result"
    }
   ],
   "source": [
    "f_score_com = rel_df.groupby(['Flair'])[\n",
    "    ['Score', 'Comments']].median().ix[\n",
    "    ['Infidelity', 'Non-Romantic', 'Relationships', 'Updates']]\n",
    "f_score_com"
   ]
  },
  {
   "cell_type": "code",
   "execution_count": 118,
   "metadata": {
    "collapsed": false
   },
   "outputs": [
    {
     "data": {
      "text/html": [
       "<div>\n",
       "<table border=\"1\" class=\"dataframe\">\n",
       "  <thead>\n",
       "    <tr style=\"text-align: right;\">\n",
       "      <th></th>\n",
       "      <th>Score</th>\n",
       "      <th>Comments</th>\n",
       "    </tr>\n",
       "    <tr>\n",
       "      <th>Flair</th>\n",
       "      <th></th>\n",
       "      <th></th>\n",
       "    </tr>\n",
       "  </thead>\n",
       "  <tbody>\n",
       "    <tr>\n",
       "      <th>Infidelity</th>\n",
       "      <td>24.351616</td>\n",
       "      <td>25.858586</td>\n",
       "    </tr>\n",
       "    <tr>\n",
       "      <th>Non-Romantic</th>\n",
       "      <td>24.383503</td>\n",
       "      <td>25.616162</td>\n",
       "    </tr>\n",
       "    <tr>\n",
       "      <th>Relationships</th>\n",
       "      <td>23.937075</td>\n",
       "      <td>32.323232</td>\n",
       "    </tr>\n",
       "    <tr>\n",
       "      <th>Updates</th>\n",
       "      <td>27.327806</td>\n",
       "      <td>16.202020</td>\n",
       "    </tr>\n",
       "  </tbody>\n",
       "</table>\n",
       "</div>"
      ],
      "text/plain": [
       "                   Score   Comments\n",
       "Flair                              \n",
       "Infidelity     24.351616  25.858586\n",
       "Non-Romantic   24.383503  25.616162\n",
       "Relationships  23.937075  32.323232\n",
       "Updates        27.327806  16.202020"
      ]
     },
     "execution_count": 118,
     "metadata": {},
     "output_type": "execute_result"
    }
   ],
   "source": [
    "f_score_com_pcts = f_score_com.apply(lambda c: c/c.sum() * 100, axis=0)\n",
    "f_score_com_pcts"
   ]
  },
  {
   "cell_type": "code",
   "execution_count": 119,
   "metadata": {
    "collapsed": false
   },
   "outputs": [
    {
     "data": {
      "text/plain": [
       "<matplotlib.axes._subplots.AxesSubplot at 0x10e09c610>"
      ]
     },
     "execution_count": 119,
     "metadata": {},
     "output_type": "execute_result"
    },
    {
     "data": {
      "image/png": "[encoded data removed]",
      "text/plain": [
       "<matplotlib.figure.Figure at 0x10e14c850>"
      ]
     },
     "metadata": {},
     "output_type": "display_data"
    }
   ],
   "source": [
    "f_score_com_pcts.plot()"
   ]
  },
  {
   "cell_type": "code",
   "execution_count": 203,
   "metadata": {
    "collapsed": false
   },
   "outputs": [
    {
     "name": "stdout",
     "output_type": "stream",
     "text": [
      "The test statistic is 17.772, and the significance level is 0.000.\n"
     ]
    }
   ],
   "source": [
    "d = {}\n",
    "for key, value in rel_df.groupby('Flair'):\n",
    "        d['%s' % key] = value['Score']\n",
    "        \n",
    "H, p_val = stats.mstats.kruskalwallis(d['Infidelity'], d['Non-Romantic'], \n",
    "                                      d['Relationships'], d['Updates'])\n",
    "print \"The test statistic is %1.3f, and the significance level is %1.3f.\" % (H, p_val)"
   ]
  },
  {
   "cell_type": "code",
   "execution_count": 202,
   "metadata": {
    "collapsed": false
   },
   "outputs": [
    {
     "name": "stdout",
     "output_type": "stream",
     "text": [
      "The test statistic is 177.918, and the significance level is 0.000.\n"
     ]
    }
   ],
   "source": [
    "d = {}\n",
    "for key, value in rel_df.groupby('Flair'):\n",
    "        d['%s' % key] = value['Comments']\n",
    "        \n",
    "H, p_val = stats.mstats.kruskalwallis(d['Infidelity'], d['Non-Romantic'], \n",
    "                                      d['Relationships'], d['Updates'])\n",
    "print \"The test statistic is %1.3f, and the significance level is %1.3f.\" % (H, p_val)"
   ]
  },
  {
   "cell_type": "code",
   "execution_count": 105,
   "metadata": {
    "collapsed": true
   },
   "outputs": [],
   "source": [
    "score_com_day = rel_df.groupby('DayOfWeek')[\n",
    "    ['Score', 'Comments']].median()\n",
    "score_com_day = score_com_day.reindex(['Mon', 'Tues', 'Weds', \n",
    "                                       'Thurs', 'Fri', 'Sat', \n",
    "                                       'Sun'])"
   ]
  },
  {
   "cell_type": "code",
   "execution_count": 106,
   "metadata": {
    "collapsed": false
   },
   "outputs": [
    {
     "data": {
      "text/html": [
       "<div>\n",
       "<table border=\"1\" class=\"dataframe\">\n",
       "  <thead>\n",
       "    <tr style=\"text-align: right;\">\n",
       "      <th></th>\n",
       "      <th>Score</th>\n",
       "      <th>Comments</th>\n",
       "    </tr>\n",
       "    <tr>\n",
       "      <th>DayOfWeek</th>\n",
       "      <th></th>\n",
       "      <th></th>\n",
       "    </tr>\n",
       "  </thead>\n",
       "  <tbody>\n",
       "    <tr>\n",
       "      <th>Mon</th>\n",
       "      <td>1247.0</td>\n",
       "      <td>242</td>\n",
       "    </tr>\n",
       "    <tr>\n",
       "      <th>Tues</th>\n",
       "      <td>1207.5</td>\n",
       "      <td>272</td>\n",
       "    </tr>\n",
       "    <tr>\n",
       "      <th>Weds</th>\n",
       "      <td>1249.0</td>\n",
       "      <td>296</td>\n",
       "    </tr>\n",
       "    <tr>\n",
       "      <th>Thurs</th>\n",
       "      <td>1107.0</td>\n",
       "      <td>284</td>\n",
       "    </tr>\n",
       "    <tr>\n",
       "      <th>Fri</th>\n",
       "      <td>1304.0</td>\n",
       "      <td>269</td>\n",
       "    </tr>\n",
       "    <tr>\n",
       "      <th>Sat</th>\n",
       "      <td>1242.0</td>\n",
       "      <td>268</td>\n",
       "    </tr>\n",
       "    <tr>\n",
       "      <th>Sun</th>\n",
       "      <td>1235.0</td>\n",
       "      <td>249</td>\n",
       "    </tr>\n",
       "  </tbody>\n",
       "</table>\n",
       "</div>"
      ],
      "text/plain": [
       "            Score  Comments\n",
       "DayOfWeek                  \n",
       "Mon        1247.0       242\n",
       "Tues       1207.5       272\n",
       "Weds       1249.0       296\n",
       "Thurs      1107.0       284\n",
       "Fri        1304.0       269\n",
       "Sat        1242.0       268\n",
       "Sun        1235.0       249"
      ]
     },
     "execution_count": 106,
     "metadata": {},
     "output_type": "execute_result"
    }
   ],
   "source": [
    "score_com_day"
   ]
  },
  {
   "cell_type": "code",
   "execution_count": 109,
   "metadata": {
    "collapsed": false
   },
   "outputs": [
    {
     "data": {
      "text/html": [
       "<div>\n",
       "<table border=\"1\" class=\"dataframe\">\n",
       "  <thead>\n",
       "    <tr style=\"text-align: right;\">\n",
       "      <th></th>\n",
       "      <th>Score</th>\n",
       "      <th>Comments</th>\n",
       "    </tr>\n",
       "    <tr>\n",
       "      <th>DayOfWeek</th>\n",
       "      <th></th>\n",
       "      <th></th>\n",
       "    </tr>\n",
       "  </thead>\n",
       "  <tbody>\n",
       "    <tr>\n",
       "      <th>Mon</th>\n",
       "      <td>14.514346</td>\n",
       "      <td>12.872340</td>\n",
       "    </tr>\n",
       "    <tr>\n",
       "      <th>Tues</th>\n",
       "      <td>14.054589</td>\n",
       "      <td>14.468085</td>\n",
       "    </tr>\n",
       "    <tr>\n",
       "      <th>Weds</th>\n",
       "      <td>14.537624</td>\n",
       "      <td>15.744681</td>\n",
       "    </tr>\n",
       "    <tr>\n",
       "      <th>Thurs</th>\n",
       "      <td>12.884828</td>\n",
       "      <td>15.106383</td>\n",
       "    </tr>\n",
       "    <tr>\n",
       "      <th>Fri</th>\n",
       "      <td>15.177792</td>\n",
       "      <td>14.308511</td>\n",
       "    </tr>\n",
       "    <tr>\n",
       "      <th>Sat</th>\n",
       "      <td>14.456149</td>\n",
       "      <td>14.255319</td>\n",
       "    </tr>\n",
       "    <tr>\n",
       "      <th>Sun</th>\n",
       "      <td>14.374673</td>\n",
       "      <td>13.244681</td>\n",
       "    </tr>\n",
       "  </tbody>\n",
       "</table>\n",
       "</div>"
      ],
      "text/plain": [
       "               Score   Comments\n",
       "DayOfWeek                      \n",
       "Mon        14.514346  12.872340\n",
       "Tues       14.054589  14.468085\n",
       "Weds       14.537624  15.744681\n",
       "Thurs      12.884828  15.106383\n",
       "Fri        15.177792  14.308511\n",
       "Sat        14.456149  14.255319\n",
       "Sun        14.374673  13.244681"
      ]
     },
     "execution_count": 109,
     "metadata": {},
     "output_type": "execute_result"
    }
   ],
   "source": [
    "score_com_pcts = score_com_day.apply(lambda c: c/c.sum() * 100, axis=0)\n",
    "score_com_pcts"
   ]
  },
  {
   "cell_type": "code",
   "execution_count": 110,
   "metadata": {
    "collapsed": false
   },
   "outputs": [
    {
     "data": {
      "text/plain": [
       "<matplotlib.axes._subplots.AxesSubplot at 0x10dfe43d0>"
      ]
     },
     "execution_count": 110,
     "metadata": {},
     "output_type": "execute_result"
    },
    {
     "data": {
      "image/png": "[encoded data removed]",
      "text/plain": [
       "<matplotlib.figure.Figure at 0x10dfdd050>"
      ]
     },
     "metadata": {},
     "output_type": "display_data"
    }
   ],
   "source": [
    "score_com_pcts.plot()"
   ]
  },
  {
   "cell_type": "code",
   "execution_count": 200,
   "metadata": {
    "collapsed": false
   },
   "outputs": [
    {
     "name": "stdout",
     "output_type": "stream",
     "text": [
      "The test statistic is 8.843, and the significance level is 0.183.\n"
     ]
    }
   ],
   "source": [
    "d = {}\n",
    "for key, value in rel_df.groupby('DayOfWeek'):\n",
    "        d['%s' % key] = value['Score']\n",
    "        \n",
    "H, p_val = stats.mstats.kruskalwallis(d['Mon'], d['Tues'], d['Weds'], d['Thurs'], \n",
    "                                       d['Fri'], d['Sat'], d['Sun'])\n",
    "print \"The test statistic is %1.3f, and the significance level is %1.3f.\" % (H, p_val)"
   ]
  },
  {
   "cell_type": "code",
   "execution_count": 201,
   "metadata": {
    "collapsed": false
   },
   "outputs": [
    {
     "name": "stdout",
     "output_type": "stream",
     "text": [
      "The test statistic is 11.957, and the significance level is 0.063.\n"
     ]
    }
   ],
   "source": [
    "d = {}\n",
    "for key, value in rel_df.groupby('DayOfWeek'):\n",
    "        d['%s' % key] = value['Comments']\n",
    "        \n",
    "H, p_val = stats.mstats.kruskalwallis(d['Mon'], d['Tues'], d['Weds'], d['Thurs'], \n",
    "                                       d['Fri'], d['Sat'], d['Sun'])\n",
    "print \"The test statistic is %1.3f, and the significance level is %1.3f.\" % (H, p_val)"
   ]
  },
  {
   "cell_type": "code",
   "execution_count": null,
   "metadata": {
    "collapsed": false
   },
   "outputs": [],
   "source": []
  },
  {
   "cell_type": "code",
   "execution_count": null,
   "metadata": {
    "collapsed": false
   },
   "outputs": [],
   "source": []
  },
  {
   "cell_type": "code",
   "execution_count": null,
   "metadata": {
    "collapsed": true
   },
   "outputs": [],
   "source": []
  }
 ],
 "metadata": {
  "kernelspec": {
   "display_name": "Python 2",
   "language": "python",
   "name": "python2"
  },
  "language_info": {
   "codemirror_mode": {
    "name": "ipython",
    "version": 2
   },
   "file_extension": ".py",
   "mimetype": "text/x-python",
   "name": "python",
   "nbconvert_exporter": "python",
   "pygments_lexer": "ipython2",
   "version": "2.7.10"
  }
 },
 "nbformat": 4,
 "nbformat_minor": 0
}
