{
 "cells": [
  {
   "cell_type": "markdown",
   "metadata": {},
   "source": [
    "---\n",
    "title: Analysing reddit data - part 4: data analysis  \n",
    "date: 2015-12-09  \n",
    "comments: false  \n",
    "tags: Python, Programming tips, pandas, scipy, matplotlib, hypothesis testing  \n",
    "keywords: python, programming, reproducible research, pandas, scipy, hypothesis testing, non-parametric tests, matplotlib  \n",
    "\n",
    "---\n",
    "\n",
    "This week ends a 4-part series on extracting and analysing JSON-encoded data from reddit, using the subreddit [/r/relationships](https://www.reddit.com/r/relationships#hme) as an example. In the first two entries I [set up the environment]({filename}2015-11-18-reddit-api-part-1.md) and [collected the data]({filename}2015-11-25-reddit-api-part-2.md). [Last week]({filename}2015-12-02-reddit-api-part-3.md), I finished by cleaning the data and doing some basic analyses. This week we'll finish with some fairly simple bivariate analyses. We'll answer some questions about both posters to the subreddit and how the readers react to these posts, and play around with visualisation in `matplotlib`. In the interest of brevity (i.e., not having to check parametric assumptions), I'll be using non-parametric tests, but if you were doing this properly (not being lazy!) you would need to complete all of these checks and consider the use of parametric tests.\n",
    "\n",
    "(**Note**: If you have been following this tutorial from the beginning, I have made a correction to Part 1. When I initially created my virtualenv, I forgot to install the `scipy` package. If you do not have `scipy` installed, please go back and install that before starting.)\n",
    "\n",
    "So let's see what relationships problems the good people of reddit write in about!\n",
    "\n",
    "<img src=\"/figure/Lichtenstein_picture.jpg\" title=\"Lichtenstein picture\" alt=\"Copy of Lichtenstein print\" style=\"display: block; margin: auto;\" />"
   ]
  },
  {
   "cell_type": "markdown",
   "metadata": {},
   "source": [
    "## Questions about posters to the subreddit\n",
    "\n",
    "Let's start by testing some hypotheses about the posters to the site. As we have the sex of the posters, the questions that immediately jump out at me are whether sex has a relationship with a) age and b) the type of posts (flairs) on the subreddit.\n",
    "\n",
    "### Does the age distribution vary by sex?\n",
    "\n",
    "The first question I will explore is whether the age distribution of the posters differs between sexes. To start, I'll compute the median age of both men and women."
   ]
  },
  {
   "cell_type": "code",
   "execution_count": 92,
   "metadata": {
    "collapsed": false
   },
   "outputs": [
    {
     "data": {
      "text/plain": [
       "PosterSex\n",
       "F    26\n",
       "M    27\n",
       "Name: PosterAge, dtype: float64"
      ]
     },
     "execution_count": 92,
     "metadata": {},
     "output_type": "execute_result"
    }
   ],
   "source": [
    "import numpy as np\n",
    "from pandas import Series, DataFrame\n",
    "import pandas as pd\n",
    "\n",
    "rel_df['PosterAge'].groupby([rel_df['PosterSex']]).median()"
   ]
  },
  {
   "cell_type": "markdown",
   "metadata": {},
   "source": [
    "Hmmm, it looks like there might be a difference, with male posters being older on average than female posters. To test this, I constructed a hypothesis that men are significantly older than women (at the 0.05 level). I can assess this using a [Wilcoxon rank-sum test](https://en.wikipedia.org/wiki/Mann%E2%80%93Whitney_U_test), which is given by the `ranksums` [function](http://docs.scipy.org/doc/scipy-0.16.1/reference/generated/scipy.stats.ranksums.html) in the `scipy` package. As I'm predicting that one group is larger than another I should use a one-sided test, so I divide the returned p-value by 2."
   ]
  },
  {
   "cell_type": "code",
   "execution_count": 3,
   "metadata": {
    "collapsed": false
   },
   "outputs": [
    {
     "name": "stdout",
     "output_type": "stream",
     "text": [
      "The test statistic is 2.745, and the significance level is 0.003.\n"
     ]
    }
   ],
   "source": [
    "from scipy import stats  \n",
    "\n",
    "d = {}\n",
    "for key, value in rel_df.groupby('PosterSex'):\n",
    "        d['%s' % key] = value['PosterAge']\n",
    "\n",
    "u_stat, p_val = stats.ranksums(d['M'], d['F'])\n",
    "print \"The test statistic is %1.3f, and the significance level is %1.3f.\" % (u_stat, p_val / 2)"
   ]
  },
  {
   "cell_type": "markdown",
   "metadata": {},
   "source": [
    "You can see that the p-value is 0.003, meaning male posters are significantly older than female posters."
   ]
  },
  {
   "cell_type": "markdown",
   "metadata": {},
   "source": [
    "### Does flair type differ by sex?\n",
    "\n",
    "Another interesting question is whether the distribution of flairs differs by sex, or in other words, does the type of questions asked on the subreddit differ for men and women? We'll start by looking at the frequencies of posts for each sex by flair. As mentioned in the [previous post]({filename}2015-12-02-reddit-api-part-3.md), we won't be using the flairs \"Breakups\", \"Personal issues\" or \"Dating\" due to the small number of posts in these categories."
   ]
  },
  {
   "cell_type": "code",
   "execution_count": 4,
   "metadata": {
    "collapsed": false
   },
   "outputs": [
    {
     "data": {
      "text/html": [
       "<div>\n",
       "<table border=\"1\" class=\"dataframe\">\n",
       "  <thead>\n",
       "    <tr style=\"text-align: right;\">\n",
       "      <th>Poster Sex</th>\n",
       "      <th>F</th>\n",
       "      <th>M</th>\n",
       "    </tr>\n",
       "    <tr>\n",
       "      <th>Flair</th>\n",
       "      <th></th>\n",
       "      <th></th>\n",
       "    </tr>\n",
       "  </thead>\n",
       "  <tbody>\n",
       "    <tr>\n",
       "      <th>Infidelity</th>\n",
       "      <td>13</td>\n",
       "      <td>17</td>\n",
       "    </tr>\n",
       "    <tr>\n",
       "      <th>Non-Romantic</th>\n",
       "      <td>107</td>\n",
       "      <td>41</td>\n",
       "    </tr>\n",
       "    <tr>\n",
       "      <th>Relationships</th>\n",
       "      <td>85</td>\n",
       "      <td>68</td>\n",
       "    </tr>\n",
       "    <tr>\n",
       "      <th>Updates</th>\n",
       "      <td>281</td>\n",
       "      <td>175</td>\n",
       "    </tr>\n",
       "  </tbody>\n",
       "</table>\n",
       "</div>"
      ],
      "text/plain": [
       "Poster Sex       F    M\n",
       "Flair                  \n",
       "Infidelity      13   17\n",
       "Non-Romantic   107   41\n",
       "Relationships   85   68\n",
       "Updates        281  175"
      ]
     },
     "execution_count": 4,
     "metadata": {},
     "output_type": "execute_result"
    }
   ],
   "source": [
    "sex_flair = pd.crosstab(rel_df['Flair'], rel_df['PosterSex'], \n",
    "            rownames = ['Flair'], colnames=['Poster Sex']).ix[\n",
    "    ['Infidelity', 'Non-Romantic', 'Relationships', 'Updates']]\n",
    "sex_flair"
   ]
  },
  {
   "cell_type": "markdown",
   "metadata": {},
   "source": [
    "Well, that's not the most informative table. As there are an unequal number of men and women in the sample, we need to standardise these categories in some way. The most logical way is to look at percentage of posts in each column:"
   ]
  },
  {
   "cell_type": "code",
   "execution_count": 5,
   "metadata": {
    "collapsed": false
   },
   "outputs": [
    {
     "data": {
      "text/html": [
       "<div>\n",
       "<table border=\"1\" class=\"dataframe\">\n",
       "  <thead>\n",
       "    <tr style=\"text-align: right;\">\n",
       "      <th>Poster Sex</th>\n",
       "      <th>F</th>\n",
       "      <th>M</th>\n",
       "    </tr>\n",
       "    <tr>\n",
       "      <th>Flair</th>\n",
       "      <th></th>\n",
       "      <th></th>\n",
       "    </tr>\n",
       "  </thead>\n",
       "  <tbody>\n",
       "    <tr>\n",
       "      <th>Infidelity</th>\n",
       "      <td>2.674897</td>\n",
       "      <td>5.647841</td>\n",
       "    </tr>\n",
       "    <tr>\n",
       "      <th>Non-Romantic</th>\n",
       "      <td>22.016461</td>\n",
       "      <td>13.621262</td>\n",
       "    </tr>\n",
       "    <tr>\n",
       "      <th>Relationships</th>\n",
       "      <td>17.489712</td>\n",
       "      <td>22.591362</td>\n",
       "    </tr>\n",
       "    <tr>\n",
       "      <th>Updates</th>\n",
       "      <td>57.818930</td>\n",
       "      <td>58.139535</td>\n",
       "    </tr>\n",
       "  </tbody>\n",
       "</table>\n",
       "</div>"
      ],
      "text/plain": [
       "Poster Sex             F          M\n",
       "Flair                              \n",
       "Infidelity      2.674897   5.647841\n",
       "Non-Romantic   22.016461  13.621262\n",
       "Relationships  17.489712  22.591362\n",
       "Updates        57.818930  58.139535"
      ]
     },
     "execution_count": 5,
     "metadata": {},
     "output_type": "execute_result"
    }
   ],
   "source": [
    "sex_flair.apply(lambda c: c/c.sum() * 100, axis=0)"
   ]
  },
  {
   "cell_type": "markdown",
   "metadata": {},
   "source": [
    "Ah ha! Now we can see that we have two flairs that may differ by sex: women are more likely to questions about non-romantic relationships, whereas men are more likely to ask questions about romantic relationships. Let's test this more formally. The test we would use here is a [Chi-squared test](https://en.wikipedia.org/wiki/Chi-squared_test), which can be performed in Python using the `chi2_contingency` [function](http://docs.scipy.org/doc/scipy-0.15.1/reference/generated/scipy.stats.chi2_contingency.html) in the `scipy` package."
   ]
  },
  {
   "cell_type": "code",
   "execution_count": 6,
   "metadata": {
    "collapsed": false
   },
   "outputs": [
    {
     "name": "stdout",
     "output_type": "stream",
     "text": [
      "The test statistic is 13.768, and the significance level is 0.003.\n"
     ]
    }
   ],
   "source": [
    "chi2, p_val, df, exp_vals = stats.chi2_contingency(sex_flair)\n",
    "print \"The test statistic is %1.3f, and the significance level is %1.3f.\" % (chi2, p_val)"
   ]
  },
  {
   "cell_type": "markdown",
   "metadata": {},
   "source": [
    "Again, we can see that the test is significant, with a p-value of 0.003. What this tells us is that the observed frequencies in our [contingency table](https://en.wikipedia.org/wiki/Contingency_table) between flair and sex are different from what would be expected if the two variables did not have a relationship. Therefore, we know that the sex of the poster significantly affects what kind of topics they post about. However, I should stress that as this is an [omnibus test](https://en.wikipedia.org/wiki/Omnibus_test) we can't say specifically that men and women differ in how frequently they post about non-romantic and relationships topics; we'd need further ([post-hoc](https://en.wikipedia.org/wiki/Post_hoc_analysis)) testing for that."
   ]
  },
  {
   "cell_type": "markdown",
   "metadata": {},
   "source": [
    "## Questions about the readers of the subreddit\n",
    "\n",
    "Now that we've had a brief look at the posters to the subreddit, let's have a look at how the readers of the subreddit behave. This time, let's have a look at the `DayOfWeek`, `Score` and `Comments` variables. More specifically, we'll look at whether the overall post score and number of comments it attracts differs by the day of the week it is posted. To start, let's look at the median score and comments each post attracts per day of the week:"
   ]
  },
  {
   "cell_type": "code",
   "execution_count": 7,
   "metadata": {
    "collapsed": false
   },
   "outputs": [
    {
     "data": {
      "text/html": [
       "<div>\n",
       "<table border=\"1\" class=\"dataframe\">\n",
       "  <thead>\n",
       "    <tr style=\"text-align: right;\">\n",
       "      <th></th>\n",
       "      <th>Score</th>\n",
       "      <th>Comments</th>\n",
       "    </tr>\n",
       "    <tr>\n",
       "      <th>DayOfWeek</th>\n",
       "      <th></th>\n",
       "      <th></th>\n",
       "    </tr>\n",
       "  </thead>\n",
       "  <tbody>\n",
       "    <tr>\n",
       "      <th>Mon</th>\n",
       "      <td>1241.0</td>\n",
       "      <td>241.5</td>\n",
       "    </tr>\n",
       "    <tr>\n",
       "      <th>Tues</th>\n",
       "      <td>1260.5</td>\n",
       "      <td>272.0</td>\n",
       "    </tr>\n",
       "    <tr>\n",
       "      <th>Weds</th>\n",
       "      <td>1248.0</td>\n",
       "      <td>312.0</td>\n",
       "    </tr>\n",
       "    <tr>\n",
       "      <th>Thurs</th>\n",
       "      <td>1120.0</td>\n",
       "      <td>281.0</td>\n",
       "    </tr>\n",
       "    <tr>\n",
       "      <th>Fri</th>\n",
       "      <td>1324.0</td>\n",
       "      <td>271.0</td>\n",
       "    </tr>\n",
       "    <tr>\n",
       "      <th>Sat</th>\n",
       "      <td>1293.0</td>\n",
       "      <td>268.0</td>\n",
       "    </tr>\n",
       "    <tr>\n",
       "      <th>Sun</th>\n",
       "      <td>1237.0</td>\n",
       "      <td>249.0</td>\n",
       "    </tr>\n",
       "  </tbody>\n",
       "</table>\n",
       "</div>"
      ],
      "text/plain": [
       "            Score  Comments\n",
       "DayOfWeek                  \n",
       "Mon        1241.0     241.5\n",
       "Tues       1260.5     272.0\n",
       "Weds       1248.0     312.0\n",
       "Thurs      1120.0     281.0\n",
       "Fri        1324.0     271.0\n",
       "Sat        1293.0     268.0\n",
       "Sun        1237.0     249.0"
      ]
     },
     "execution_count": 7,
     "metadata": {},
     "output_type": "execute_result"
    }
   ],
   "source": [
    "score_com_day = rel_df.groupby('DayOfWeek')[\n",
    "    ['Score', 'Comments']].median()\n",
    "score_com_day = score_com_day.reindex(['Mon', 'Tues', 'Weds', 'Thurs', \n",
    "                                       'Fri', 'Sat', 'Sun'])\n",
    "score_com_day"
   ]
  },
  {
   "cell_type": "markdown",
   "metadata": {},
   "source": [
    "It looks like there may be some variation in both scores and comments across the week, but it's a little hard to see in a tabular format. To get a better sense of the pattern, let's create line graphs plotting each column in the table above:"
   ]
  },
  {
   "cell_type": "code",
   "execution_count": 91,
   "metadata": {
    "collapsed": false
   },
   "outputs": [
    {
     "data": {
      "image/png": "[encoded data removed]",
      "text/plain": [
       "<matplotlib.figure.Figure at 0x119721410>"
      ]
     },
     "metadata": {},
     "output_type": "display_data"
    }
   ],
   "source": [
    "import matplotlib.pyplot as plt\n",
    "import matplotlib.font_manager as fm\n",
    "%matplotlib inline\n",
    "\n",
    "# Create plot template with two graph boxes\n",
    "fig = plt.figure(figsize = (720/120, 420/120), dpi = 120)\n",
    "\n",
    "# Create subplot 1 for median scores\n",
    "ax1 = fig.add_subplot(1, 2, 1)\n",
    "score_com_day['Score'].plot(linestyle='solid', color='#FF3721')\n",
    "ax1.set_title('Score')\n",
    "plt.xlabel('Day of Week', fontsize=10)\n",
    "plt.tick_params(axis='both', which='major', labelsize=8)\n",
    "\n",
    "# Create subplot 2 for median comments\n",
    "ax2 = fig.add_subplot(1, 2, 2)\n",
    "score_com_day['Comments'].plot(linestyle='dashed', color='#4271AE')\n",
    "ax2.set_title('Comments')\n",
    "plt.xlabel('Day of Week', fontsize=10)\n",
    "plt.tick_params(axis='both', which='major', labelsize=8)\n",
    "\n",
    "# Export graph as figure\n",
    "fig.savefig(\"/Users/jburchell/projects/t-redactyl/content/figure/score_comments_plot.png\", \n",
    "            dpi = 120, bbox_inches='tight')"
   ]
  },
  {
   "cell_type": "markdown",
   "metadata": {},
   "source": [
    "<img src=\"/figure/score_comments_plot.png\" title=\"Score/comments plot\" alt=\"Plot of score and comments per day of week\" style=\"display: block; margin: auto;\" />\n",
    "\n",
    "Now we can see it a bit more clearly! Posts that are created on weekdays, particularly Thursdays, have lower scores than those created on a weekend. However, the opposite is true for the number of comments, where posts created on a weekend and early in the week receive far fewer comments than those created mid-week (Tuesday to Thursday).\n",
    "\n",
    "Before we start trying to interpret these results, let's test whether the day of the week is significantly related to the score and comments. We'll use another omnibus test, the [Kruskal–Wallis one-way analysis of variance](https://en.wikipedia.org/wiki/Kruskal%E2%80%93Wallis_one-way_analysis_of_variance) to test this, which can be performed using the `kruskalwallis` function in the `scipy` package. This tells us whether there is a significant difference between any of the days of the week in the score or number of comments, but again doesn't tell us which days of the week are significantly different."
   ]
  },
  {
   "cell_type": "code",
   "execution_count": 87,
   "metadata": {
    "collapsed": false
   },
   "outputs": [
    {
     "name": "stdout",
     "output_type": "stream",
     "text": [
      "The test statistic is 11.280, and the significance level is 0.080.\n"
     ]
    }
   ],
   "source": [
    "d = {}\n",
    "for key, value in rel_df.groupby('DayOfWeek'):\n",
    "        d['%s' % key] = value['Score']\n",
    "        \n",
    "H, p_val = stats.mstats.kruskalwallis(d['Mon'], d['Tues'], d['Weds'], d['Thurs'], \n",
    "                                       d['Fri'], d['Sat'], d['Sun'])\n",
    "print \"The test statistic is %1.3f, and the significance level is %1.3f.\" % (H, p_val)"
   ]
  },
  {
   "cell_type": "markdown",
   "metadata": {},
   "source": [
    "We can see that the day of the week does **not** significantly affect the score a post receives, with the Kruskall-Wallis test having a p-value of 0.080."
   ]
  },
  {
   "cell_type": "code",
   "execution_count": 88,
   "metadata": {
    "collapsed": false
   },
   "outputs": [
    {
     "name": "stdout",
     "output_type": "stream",
     "text": [
      "The test statistic is 13.387, and the significance level is 0.037.\n"
     ]
    }
   ],
   "source": [
    "d = {}\n",
    "for key, value in rel_df.groupby('DayOfWeek'):\n",
    "        d['%s' % key] = value['Comments']\n",
    "        \n",
    "H, p_val = stats.mstats.kruskalwallis(d['Mon'], d['Tues'], d['Weds'], d['Thurs'], \n",
    "                                       d['Fri'], d['Sat'], d['Sun'])\n",
    "print \"The test statistic is %1.3f, and the significance level is %1.3f.\" % (H, p_val)"
   ]
  },
  {
   "cell_type": "markdown",
   "metadata": {},
   "source": [
    "However, the day of the week does significantly affect the number of comments a post attracts (although at p = 0.037 in a sample of 1,000, this is not the most compelling result). Perhaps readers are a bit more motivated to spend time on this subreddit during the week, maybe procrastinating from work? We'd again need post-hoc analyses to confirm the difference lies between mid-week and the rest of the week."
   ]
  },
  {
   "cell_type": "markdown",
   "metadata": {
    "collapsed": false
   },
   "source": [
    "## Summing up\n",
    "\n",
    "In our brief analysis we found that male posters are significantly older than female posters, that male and female posters write in about different topics, and that the day of the week affects the number of comments a post attracts (but not its overall score).\n",
    "\n",
    "There are a few issues that limit the analysis we should think about. As I mentioned in the last post, there are missing data in `Flair` (due to the posts getting locked), `PosterAge` and `PosterSex`. You'll remember I replaced some missing data using the \"Update\" flag in the titles, but was unable to replace any other type of flair, and this likely overrepresented the number of update flairs in the sample. We also can't assume that age and sex are randomly missing - it could be that posters that were careless about how they structured their title were very distressed, for example. Finally, remember that these are the **top** posts on the subreddit of all time, which means that they may not be representative of typical poster/reader interactions on /r/relationships.\n",
    "\n",
    "There are also a couple of issues to consider with my analysis. I've already pointed out that (in the interests of being lazy) I used non-parametric tests without confirming that I could have used parametric equivalents. This means both that the test is more conservative and that we lose any effect size measures. I also didn't perform any post-hoc tests, which means what we can conclude about the relationships between sex and flairs, and day of the week and number of comments is limited. Finally, a p-value of 0.05 might be a bit cheeky when we have a relatively large sample of 1,000 observations, so it might have been more informative to drop that to something like 0.01.\n",
    "\n",
    "And that's it! We're now at the end of this tutorial series. I hope you now feel confident with collecting, wrangling, analysing and interpreting JSON-encoded data from reddit, and perhaps this tutorial has also helped you with issues with observational data more generally. Happy analysing!"
   ]
  }
 ],
 "metadata": {
  "kernelspec": {
   "display_name": "Python 2",
   "language": "python",
   "name": "python2"
  },
  "language_info": {
   "codemirror_mode": {
    "name": "ipython",
    "version": 2
   },
   "file_extension": ".py",
   "mimetype": "text/x-python",
   "name": "python",
   "nbconvert_exporter": "python",
   "pygments_lexer": "ipython2",
   "version": "2.7.10"
  }
 },
 "nbformat": 4,
 "nbformat_minor": 0
}
