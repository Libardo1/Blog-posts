{
 "cells": [
  {
   "cell_type": "markdown",
   "metadata": {},
   "source": [
    "---\n",
    "title: Analysing reddit data - part 4: data analysis  \n",
    "date: 2015-12-09  \n",
    "comments: false  \n",
    "tags: Python, Programming tips, Public Data, Reddit API, pandas  \n",
    "keywords: python, programming, reproducible research  \n",
    "\n",
    "---\n",
    "\n",
    "This week ends a 4-part series on extracting and analysing JSON-encoded data from reddit, using the subreddit [/r/relationships](https://www.reddit.com/r/relationships#hme) as an example. In the first two entries I [set up the environment]({filename}2015-11-18-reddit-api-part-1.md) and [collected the data]({filename}2015-11-25-reddit-api-part-2.md). [Last week]({filename}2015-12-02-reddit-api-part-3.md), I finished by cleaning the data and doing some basic analyses. This week we'll finish with some fairly simple bivariate analyses. We'll answer some questions about both posters to the subreddit and how the readers react to these posts. In the interest of brevity (i.e., not having to check parametric assumptions), I'll be using non-parametric tests, but if you were doing this as a formal analysis it would be necessary to complete all of these checks and consider the use of parametric tests."
   ]
  },
  {
   "cell_type": "markdown",
   "metadata": {},
   "source": [
    "## Questions about posters to the subreddit\n",
    "\n",
    "Let's start by testing some hypotheses about the posters to the site. As we have the sex of the posters, the questions that immediately jump out at me is whether sex interacts with age and the type of posts (flairs) that are posted to the subreddit.\n",
    "\n",
    "### Does the age distribution vary by sex?\n",
    "\n",
    "The first question I will explore is whether the age distribution of the posters differs between the sexes. To start, I'll compute the median age of both men and women."
   ]
  },
  {
   "cell_type": "code",
   "execution_count": 1,
   "metadata": {
    "collapsed": false
   },
   "outputs": [
    {
     "data": {
      "text/html": [
       "<div>\n",
       "<table border=\"1\" class=\"dataframe\">\n",
       "  <thead>\n",
       "    <tr style=\"text-align: right;\">\n",
       "      <th></th>\n",
       "      <th>Date</th>\n",
       "      <th>Title</th>\n",
       "      <th>Flair</th>\n",
       "      <th>Comments</th>\n",
       "      <th>Score</th>\n",
       "      <th>PosterAge</th>\n",
       "      <th>PosterSex</th>\n",
       "      <th>DayOfWeek</th>\n",
       "    </tr>\n",
       "  </thead>\n",
       "  <tbody>\n",
       "    <tr>\n",
       "      <th>0</th>\n",
       "      <td>2015-08-21 20:07:02</td>\n",
       "      <td>[UPDATE]My [26 F] with my husband [29 M] 1 yea...</td>\n",
       "      <td>Updates</td>\n",
       "      <td>910</td>\n",
       "      <td>7885</td>\n",
       "      <td>26</td>\n",
       "      <td>F</td>\n",
       "      <td>Fri</td>\n",
       "    </tr>\n",
       "    <tr>\n",
       "      <th>1</th>\n",
       "      <td>2015-08-07 15:50:46</td>\n",
       "      <td>Update: I [30 F] am sitting in the back of my ...</td>\n",
       "      <td>Updates</td>\n",
       "      <td>629</td>\n",
       "      <td>6078</td>\n",
       "      <td>30</td>\n",
       "      <td>F</td>\n",
       "      <td>Fri</td>\n",
       "    </tr>\n",
       "    <tr>\n",
       "      <th>2</th>\n",
       "      <td>2015-06-23 02:20:34</td>\n",
       "      <td>UPDATE: My fiancee (24F) has no bridesmaids an...</td>\n",
       "      <td>Updates</td>\n",
       "      <td>623</td>\n",
       "      <td>5565</td>\n",
       "      <td>25</td>\n",
       "      <td>M</td>\n",
       "      <td>Tues</td>\n",
       "    </tr>\n",
       "    <tr>\n",
       "      <th>3</th>\n",
       "      <td>2015-08-01 01:38:10</td>\n",
       "      <td>My [42M] daughter [17F] has been bullying a gi...</td>\n",
       "      <td>NaN</td>\n",
       "      <td>970</td>\n",
       "      <td>5325</td>\n",
       "      <td>42</td>\n",
       "      <td>M</td>\n",
       "      <td>Sat</td>\n",
       "    </tr>\n",
       "    <tr>\n",
       "      <th>4</th>\n",
       "      <td>2015-08-25 22:51:57</td>\n",
       "      <td>[Update] My [26F] fiance's [28M] ex-wife [28F]...</td>\n",
       "      <td>Updates</td>\n",
       "      <td>765</td>\n",
       "      <td>5201</td>\n",
       "      <td>26</td>\n",
       "      <td>F</td>\n",
       "      <td>Tues</td>\n",
       "    </tr>\n",
       "  </tbody>\n",
       "</table>\n",
       "</div>"
      ],
      "text/plain": [
       "                  Date                                              Title  \\\n",
       "0  2015-08-21 20:07:02  [UPDATE]My [26 F] with my husband [29 M] 1 yea...   \n",
       "1  2015-08-07 15:50:46  Update: I [30 F] am sitting in the back of my ...   \n",
       "2  2015-06-23 02:20:34  UPDATE: My fiancee (24F) has no bridesmaids an...   \n",
       "3  2015-08-01 01:38:10  My [42M] daughter [17F] has been bullying a gi...   \n",
       "4  2015-08-25 22:51:57  [Update] My [26F] fiance's [28M] ex-wife [28F]...   \n",
       "\n",
       "     Flair  Comments  Score  PosterAge PosterSex DayOfWeek  \n",
       "0  Updates       910   7885         26         F       Fri  \n",
       "1  Updates       629   6078         30         F       Fri  \n",
       "2  Updates       623   5565         25         M      Tues  \n",
       "3      NaN       970   5325         42         M       Sat  \n",
       "4  Updates       765   5201         26         F      Tues  "
      ]
     },
     "execution_count": 1,
     "metadata": {},
     "output_type": "execute_result"
    }
   ],
   "source": [
    "import numpy as np\n",
    "from pandas import Series, DataFrame\n",
    "import pandas as pd\n",
    "\n",
    "rel_df = pd.read_csv(\"example.csv\", header=0, index_col=0, parse_dates=True)\n",
    "rel_df[:5]"
   ]
  },
  {
   "cell_type": "code",
   "execution_count": 2,
   "metadata": {
    "collapsed": false
   },
   "outputs": [
    {
     "data": {
      "text/plain": [
       "PosterSex\n",
       "F    26\n",
       "M    27\n",
       "Name: PosterAge, dtype: float64"
      ]
     },
     "execution_count": 2,
     "metadata": {},
     "output_type": "execute_result"
    }
   ],
   "source": [
    "rel_df['PosterAge'].groupby([rel_df['PosterSex']]).median()"
   ]
  },
  {
   "cell_type": "markdown",
   "metadata": {},
   "source": [
    "Hmmm, it looks like there might be a difference there, with male posters older than female posters. To test this, I construct a hypothesis that men are significantly older than women (at the 0.05 level). I can assess this using a Wilcoxon rank-sum test, which is given by the `ranksums` [function](http://docs.scipy.org/doc/scipy-0.16.1/reference/generated/scipy.stats.ranksums.html) in the `scipy.stats` package. As I'm predicting that one group is larger than another I should use a one-sided test, so I divide the returned p-value by 2."
   ]
  },
  {
   "cell_type": "code",
   "execution_count": 3,
   "metadata": {
    "collapsed": false
   },
   "outputs": [
    {
     "name": "stdout",
     "output_type": "stream",
     "text": [
      "The test statistic is 2.745, and the significance level is 0.003.\n"
     ]
    }
   ],
   "source": [
    "from scipy import stats  \n",
    "\n",
    "d = {}\n",
    "for key, value in rel_df.groupby('PosterSex'):\n",
    "        d['%s' % key] = value['PosterAge']\n",
    "\n",
    "u_stat, p_val = stats.ranksums(d['M'], d['F'])\n",
    "print \"The test statistic is %1.3f, and the significance level is %1.3f.\" % (u_stat, p_val / 2)"
   ]
  },
  {
   "cell_type": "markdown",
   "metadata": {},
   "source": [
    "You can see that the p-value is 0.003, meaning male posters are significantly older than female posters."
   ]
  },
  {
   "cell_type": "markdown",
   "metadata": {},
   "source": [
    "### Does flair type differ by sex?\n",
    "\n",
    "Another interesting question is whether the flair differs by sex, or in other words, does the type of questions asked on the subreddit differ for men and women? We'll start by looking at the frequencies of posts for each sex by flair. As mentioned in the [previous post]({filename}2015-12-02-reddit-api-part-3.md), we won't be using the flairs \"Breakups\", \"Personal issues\" or \"Dating\" due to the small number of posts in these categories."
   ]
  },
  {
   "cell_type": "code",
   "execution_count": 4,
   "metadata": {
    "collapsed": false
   },
   "outputs": [
    {
     "data": {
      "text/html": [
       "<div>\n",
       "<table border=\"1\" class=\"dataframe\">\n",
       "  <thead>\n",
       "    <tr style=\"text-align: right;\">\n",
       "      <th>Poster Sex</th>\n",
       "      <th>F</th>\n",
       "      <th>M</th>\n",
       "    </tr>\n",
       "    <tr>\n",
       "      <th>Flair</th>\n",
       "      <th></th>\n",
       "      <th></th>\n",
       "    </tr>\n",
       "  </thead>\n",
       "  <tbody>\n",
       "    <tr>\n",
       "      <th>Infidelity</th>\n",
       "      <td>13</td>\n",
       "      <td>17</td>\n",
       "    </tr>\n",
       "    <tr>\n",
       "      <th>Non-Romantic</th>\n",
       "      <td>107</td>\n",
       "      <td>41</td>\n",
       "    </tr>\n",
       "    <tr>\n",
       "      <th>Relationships</th>\n",
       "      <td>85</td>\n",
       "      <td>68</td>\n",
       "    </tr>\n",
       "    <tr>\n",
       "      <th>Updates</th>\n",
       "      <td>281</td>\n",
       "      <td>175</td>\n",
       "    </tr>\n",
       "  </tbody>\n",
       "</table>\n",
       "</div>"
      ],
      "text/plain": [
       "Poster Sex       F    M\n",
       "Flair                  \n",
       "Infidelity      13   17\n",
       "Non-Romantic   107   41\n",
       "Relationships   85   68\n",
       "Updates        281  175"
      ]
     },
     "execution_count": 4,
     "metadata": {},
     "output_type": "execute_result"
    }
   ],
   "source": [
    "sex_flair = pd.crosstab(rel_df['Flair'], rel_df['PosterSex'], \n",
    "            rownames = ['Flair'], colnames=['Poster Sex']).ix[\n",
    "    ['Infidelity', 'Non-Romantic', 'Relationships', 'Updates']]\n",
    "sex_flair"
   ]
  },
  {
   "cell_type": "markdown",
   "metadata": {},
   "source": [
    "Well, that's not the most informative table. As there are an unequal number of men and women in the sample, we need to standardise these categories in some way. The most logical way is to look at percentage of posts in each column:"
   ]
  },
  {
   "cell_type": "code",
   "execution_count": 5,
   "metadata": {
    "collapsed": false
   },
   "outputs": [
    {
     "data": {
      "text/html": [
       "<div>\n",
       "<table border=\"1\" class=\"dataframe\">\n",
       "  <thead>\n",
       "    <tr style=\"text-align: right;\">\n",
       "      <th>Poster Sex</th>\n",
       "      <th>F</th>\n",
       "      <th>M</th>\n",
       "    </tr>\n",
       "    <tr>\n",
       "      <th>Flair</th>\n",
       "      <th></th>\n",
       "      <th></th>\n",
       "    </tr>\n",
       "  </thead>\n",
       "  <tbody>\n",
       "    <tr>\n",
       "      <th>Infidelity</th>\n",
       "      <td>2.674897</td>\n",
       "      <td>5.647841</td>\n",
       "    </tr>\n",
       "    <tr>\n",
       "      <th>Non-Romantic</th>\n",
       "      <td>22.016461</td>\n",
       "      <td>13.621262</td>\n",
       "    </tr>\n",
       "    <tr>\n",
       "      <th>Relationships</th>\n",
       "      <td>17.489712</td>\n",
       "      <td>22.591362</td>\n",
       "    </tr>\n",
       "    <tr>\n",
       "      <th>Updates</th>\n",
       "      <td>57.818930</td>\n",
       "      <td>58.139535</td>\n",
       "    </tr>\n",
       "  </tbody>\n",
       "</table>\n",
       "</div>"
      ],
      "text/plain": [
       "Poster Sex             F          M\n",
       "Flair                              \n",
       "Infidelity      2.674897   5.647841\n",
       "Non-Romantic   22.016461  13.621262\n",
       "Relationships  17.489712  22.591362\n",
       "Updates        57.818930  58.139535"
      ]
     },
     "execution_count": 5,
     "metadata": {},
     "output_type": "execute_result"
    }
   ],
   "source": [
    "sex_flair.apply(lambda c: c/c.sum() * 100, axis=0)"
   ]
  },
  {
   "cell_type": "markdown",
   "metadata": {},
   "source": [
    "Ah ha! Now we can see that we have two flairs that may differ by sex: women are more likely to questions about non-romantic relationships, whereas men are more likely to ask questions about romantic relationships. Let's test this more formally. The test we would use here is a [Chi-squared test](https://en.wikipedia.org/wiki/Chi-squared_test), which can be performed in Python using the `stats.chi2_contingency` [function](http://docs.scipy.org/doc/scipy-0.15.1/reference/generated/scipy.stats.chi2_contingency.html)."
   ]
  },
  {
   "cell_type": "code",
   "execution_count": 6,
   "metadata": {
    "collapsed": false
   },
   "outputs": [
    {
     "name": "stdout",
     "output_type": "stream",
     "text": [
      "The test statistic is 13.768, and the significance level is 0.003.\n"
     ]
    }
   ],
   "source": [
    "chi2, p_val, df, exp_vals = stats.chi2_contingency(sex_flair)\n",
    "print \"The test statistic is %1.3f, and the significance level is %1.3f.\" % (chi2, p_val)"
   ]
  },
  {
   "cell_type": "markdown",
   "metadata": {},
   "source": [
    "Again, we can see that the test is significant, with a p-value of 0.003. What this tells us is that the observed frequencies in our contingency table between flair and sex is different from what would be expected if the two variables do not have a relationship. Therefore, we know that the sex of the poster significantly affects what kind of topics they post about. However, I should stress that as this is an omnibus test we can't say specifically that men and women differ in how frequently they post about non-romantic and relationships topics; we'd need further (post-hoc) testing for that."
   ]
  },
  {
   "cell_type": "markdown",
   "metadata": {},
   "source": [
    "## Questions about the readers of the subreddit\n",
    "\n",
    "Now that we've had a brief look at the posters to the subreddit, let's have a look at how posters in the subreddit behave. This time, let's have a look at the `DayOfWeek`, `Score` and `Comments` variables. More specifically, let's have a look at whether the overall post score and number of comments it attracts differs by the day of the week it is posted. To start, let's look at the median score and comments per day of the week:"
   ]
  },
  {
   "cell_type": "code",
   "execution_count": 7,
   "metadata": {
    "collapsed": false
   },
   "outputs": [
    {
     "data": {
      "text/html": [
       "<div>\n",
       "<table border=\"1\" class=\"dataframe\">\n",
       "  <thead>\n",
       "    <tr style=\"text-align: right;\">\n",
       "      <th></th>\n",
       "      <th>Score</th>\n",
       "      <th>Comments</th>\n",
       "    </tr>\n",
       "    <tr>\n",
       "      <th>DayOfWeek</th>\n",
       "      <th></th>\n",
       "      <th></th>\n",
       "    </tr>\n",
       "  </thead>\n",
       "  <tbody>\n",
       "    <tr>\n",
       "      <th>Mon</th>\n",
       "      <td>1241.0</td>\n",
       "      <td>241.5</td>\n",
       "    </tr>\n",
       "    <tr>\n",
       "      <th>Tues</th>\n",
       "      <td>1260.5</td>\n",
       "      <td>272.0</td>\n",
       "    </tr>\n",
       "    <tr>\n",
       "      <th>Weds</th>\n",
       "      <td>1248.0</td>\n",
       "      <td>312.0</td>\n",
       "    </tr>\n",
       "    <tr>\n",
       "      <th>Thurs</th>\n",
       "      <td>1120.0</td>\n",
       "      <td>281.0</td>\n",
       "    </tr>\n",
       "    <tr>\n",
       "      <th>Fri</th>\n",
       "      <td>1324.0</td>\n",
       "      <td>271.0</td>\n",
       "    </tr>\n",
       "    <tr>\n",
       "      <th>Sat</th>\n",
       "      <td>1293.0</td>\n",
       "      <td>268.0</td>\n",
       "    </tr>\n",
       "    <tr>\n",
       "      <th>Sun</th>\n",
       "      <td>1237.0</td>\n",
       "      <td>249.0</td>\n",
       "    </tr>\n",
       "  </tbody>\n",
       "</table>\n",
       "</div>"
      ],
      "text/plain": [
       "            Score  Comments\n",
       "DayOfWeek                  \n",
       "Mon        1241.0     241.5\n",
       "Tues       1260.5     272.0\n",
       "Weds       1248.0     312.0\n",
       "Thurs      1120.0     281.0\n",
       "Fri        1324.0     271.0\n",
       "Sat        1293.0     268.0\n",
       "Sun        1237.0     249.0"
      ]
     },
     "execution_count": 7,
     "metadata": {},
     "output_type": "execute_result"
    }
   ],
   "source": [
    "score_com_day = rel_df.groupby('DayOfWeek')[\n",
    "    ['Score', 'Comments']].median()\n",
    "score_com_day = score_com_day.reindex(['Mon', 'Tues', 'Weds', \n",
    "                                       'Thurs', 'Fri', 'Sat', \n",
    "                                       'Sun'])\n",
    "score_com_day"
   ]
  },
  {
   "cell_type": "code",
   "execution_count": 36,
   "metadata": {
    "collapsed": false
   },
   "outputs": [
    {
     "data": {
      "image/png": "[encoded data removed]",
      "text/plain": [
       "<matplotlib.figure.Figure at 0x1166ab650>"
      ]
     },
     "metadata": {},
     "output_type": "display_data"
    }
   ],
   "source": [
    "import matplotlib.pyplot as plt\n",
    "%matplotlib inline\n",
    "\n",
    "plot = score_com_day['Score'].plot()\n",
    "fig = plot.get_figure()\n",
    "fig.savefig(\"score_plot.png\", dpi=400, bbox_inches='tight')"
   ]
  },
  {
   "cell_type": "code",
   "execution_count": 53,
   "metadata": {
    "collapsed": false
   },
   "outputs": [
    {
     "data": {
      "text/plain": [
       "<matplotlib.axes._subplots.AxesSubplot at 0x116a26490>"
      ]
     },
     "execution_count": 53,
     "metadata": {},
     "output_type": "execute_result"
    },
    {
     "data": {
      "image/png": "[encoded data removed]",
      "text/plain": [
       "<matplotlib.figure.Figure at 0x116c62850>"
      ]
     },
     "metadata": {},
     "output_type": "display_data"
    }
   ],
   "source": [
    "fig = plt.figure()\n",
    "ax1 = fig.add_subplot(1, 2, 1)\n",
    "score_com_day['Score'].plot()\n",
    "\n",
    "ax2 = fig.add_subplot(1, 2, 2)\n",
    "score_com_day['Comments'].plot(linestyle='--', color='g')"
   ]
  },
  {
   "cell_type": "code",
   "execution_count": 15,
   "metadata": {
    "collapsed": false
   },
   "outputs": [
    {
     "data": {
      "text/plain": [
       "<matplotlib.axes._subplots.AxesSubplot at 0x11410b950>"
      ]
     },
     "execution_count": 15,
     "metadata": {},
     "output_type": "execute_result"
    },
    {
     "data": {
      "image/png": "[encoded data removed]",
      "text/plain": [
       "<matplotlib.figure.Figure at 0x113ec8b50>"
      ]
     },
     "metadata": {},
     "output_type": "display_data"
    }
   ],
   "source": [
    "score_com_day['Comments'].plot()"
   ]
  },
  {
   "cell_type": "code",
   "execution_count": 12,
   "metadata": {
    "collapsed": false
   },
   "outputs": [
    {
     "name": "stdout",
     "output_type": "stream",
     "text": [
      "The test statistic is 11.280, and the significance level is 0.080.\n"
     ]
    }
   ],
   "source": [
    "d = {}\n",
    "for key, value in rel_df.groupby('DayOfWeek'):\n",
    "        d['%s' % key] = value['Score']\n",
    "        \n",
    "H, p_val = stats.mstats.kruskalwallis(d['Mon'], d['Tues'], d['Weds'], d['Thurs'], \n",
    "                                       d['Fri'], d['Sat'], d['Sun'])\n",
    "print \"The test statistic is %1.3f, and the significance level is %1.3f.\" % (H, p_val)"
   ]
  },
  {
   "cell_type": "code",
   "execution_count": 13,
   "metadata": {
    "collapsed": false
   },
   "outputs": [
    {
     "name": "stdout",
     "output_type": "stream",
     "text": [
      "The test statistic is 13.387, and the significance level is 0.037.\n"
     ]
    }
   ],
   "source": [
    "d = {}\n",
    "for key, value in rel_df.groupby('DayOfWeek'):\n",
    "        d['%s' % key] = value['Comments']\n",
    "        \n",
    "H, p_val = stats.mstats.kruskalwallis(d['Mon'], d['Tues'], d['Weds'], d['Thurs'], \n",
    "                                       d['Fri'], d['Sat'], d['Sun'])\n",
    "print \"The test statistic is %1.3f, and the significance level is %1.3f.\" % (H, p_val)"
   ]
  },
  {
   "cell_type": "markdown",
   "metadata": {
    "collapsed": false
   },
   "source": [
    "### Poster behaviour\n",
    "- Does the age distribution vary for men and women? (Chi-sq)\n",
    "- Are certain topics more likely on different days of the week? (Chi-sq)\n",
    "\n",
    "### Reader behaviour\n",
    "- Are certain topics more popular (higher score and more comments)\n",
    "- Are certain days of the week more popular (higher score and more comments)\n",
    "\n",
    "## Interpretations and bias\n",
    "- These are only the most popular posts, so they are not representative of the general pattern of behaviour on the site.\n",
    "- Possible sources of bias include missing data on flairs (and decision to replace flairs may have increased that bias as data for the rest of the flairs is still missing), and missing sex and age information. There may be characteristics about people who don't format their titles properly (with suggested age/sex format) and the type of post (more distressed, possibly?)."
   ]
  },
  {
   "cell_type": "code",
   "execution_count": null,
   "metadata": {
    "collapsed": false
   },
   "outputs": [],
   "source": []
  },
  {
   "cell_type": "code",
   "execution_count": null,
   "metadata": {
    "collapsed": true
   },
   "outputs": [],
   "source": []
  }
 ],
 "metadata": {
  "kernelspec": {
   "display_name": "Python 2",
   "language": "python",
   "name": "python2"
  },
  "language_info": {
   "codemirror_mode": {
    "name": "ipython",
    "version": 2
   },
   "file_extension": ".py",
   "mimetype": "text/x-python",
   "name": "python",
   "nbconvert_exporter": "python",
   "pygments_lexer": "ipython2",
   "version": "2.7.10"
  }
 },
 "nbformat": 4,
 "nbformat_minor": 0
}
