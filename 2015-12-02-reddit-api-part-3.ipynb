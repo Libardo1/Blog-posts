{
 "cells": [
  {
   "cell_type": "markdown",
   "metadata": {},
   "source": [
    "---\n",
    "title: Analysing reddit data - part 3: cleaning and describing the data  \n",
    "date: 2015-12-02  \n",
    "comments: false  \n",
    "tags: Python, Programming tips, Public Data, Reddit API, pandas  \n",
    "keywords: python, programming, reproducible research, reddit api, json, pandas, regex, numpy  \n",
    "\n",
    "---\n",
    "\n",
    "Over the past two weeks ([here]({filename}2015-11-18-reddit-api-part-1.md) and [here]({filename}2015-11-25-reddit-api-part-2.md) we have been discussing how to use JSON-encoded data from reddit. So far we have set up our environment and extracted the top 1,000 posts of all time from the subreddit [/r/relationships](https://www.reddit.com/r/relationships#hme) into a `pandas Dataframe`. This week, we will work on cleaning the data, extracting further data from our existing variables and describing these variables. We'll end this series next week by doing some basic inferential analyses."
   ]
  },
  {
   "cell_type": "markdown",
   "metadata": {
    "collapsed": true
   },
   "source": [
    "## Picking up where we left off\n",
    "\n",
    "Last week, we ended up with a `pandas Dataframe` called `rel_df` with five variables: `Date`, `Title`, `Flair`, `Comments` and `Score`. If you don't have this Dataframe prepared, go back to the previous posts and set this up. Here is the first 5 results from this Dataframe."
   ]
  },
  {
   "cell_type": "code",
   "execution_count": 9,
   "metadata": {
    "collapsed": false
   },
   "outputs": [
    {
     "data": {
      "text/html": [
       "<div>\n",
       "<table border=\"1\" class=\"dataframe\">\n",
       "  <thead>\n",
       "    <tr style=\"text-align: right;\">\n",
       "      <th></th>\n",
       "      <th>Date</th>\n",
       "      <th>Title</th>\n",
       "      <th>Flair</th>\n",
       "      <th>Comments</th>\n",
       "      <th>Score</th>\n",
       "    </tr>\n",
       "  </thead>\n",
       "  <tbody>\n",
       "    <tr>\n",
       "      <th>0</th>\n",
       "      <td>1440187622</td>\n",
       "      <td>[UPDATE]My [26 F] with my husband [29 M] 1 yea...</td>\n",
       "      <td>Updates</td>\n",
       "      <td>908</td>\n",
       "      <td>7843</td>\n",
       "    </tr>\n",
       "    <tr>\n",
       "      <th>1</th>\n",
       "      <td>1438962646</td>\n",
       "      <td>Update: I [30 F] am sitting in the back of my ...</td>\n",
       "      <td>◉ Locked Post ◉</td>\n",
       "      <td>631</td>\n",
       "      <td>6038</td>\n",
       "    </tr>\n",
       "    <tr>\n",
       "      <th>2</th>\n",
       "      <td>1435026034</td>\n",
       "      <td>UPDATE: My fiancee (24F) has no bridesmaids an...</td>\n",
       "      <td>Updates</td>\n",
       "      <td>623</td>\n",
       "      <td>5548</td>\n",
       "    </tr>\n",
       "    <tr>\n",
       "      <th>3</th>\n",
       "      <td>1438393090</td>\n",
       "      <td>My [42M] daughter [17F] has been bullying a gi...</td>\n",
       "      <td>◉ Locked Post ◉</td>\n",
       "      <td>970</td>\n",
       "      <td>5301</td>\n",
       "    </tr>\n",
       "    <tr>\n",
       "      <th>4</th>\n",
       "      <td>1440543117</td>\n",
       "      <td>[Update] My [26F] fiance's [28M] ex-wife [28F]...</td>\n",
       "      <td>Updates</td>\n",
       "      <td>767</td>\n",
       "      <td>5195</td>\n",
       "    </tr>\n",
       "  </tbody>\n",
       "</table>\n",
       "</div>"
      ],
      "text/plain": [
       "         Date                                              Title  \\\n",
       "0  1440187622  [UPDATE]My [26 F] with my husband [29 M] 1 yea...   \n",
       "1  1438962646  Update: I [30 F] am sitting in the back of my ...   \n",
       "2  1435026034  UPDATE: My fiancee (24F) has no bridesmaids an...   \n",
       "3  1438393090  My [42M] daughter [17F] has been bullying a gi...   \n",
       "4  1440543117  [Update] My [26F] fiance's [28M] ex-wife [28F]...   \n",
       "\n",
       "             Flair  Comments  Score  \n",
       "0          Updates       908   7843  \n",
       "1  ◉ Locked Post ◉       631   6038  \n",
       "2          Updates       623   5548  \n",
       "3  ◉ Locked Post ◉       970   5301  \n",
       "4          Updates       767   5195  "
      ]
     },
     "execution_count": 9,
     "metadata": {},
     "output_type": "execute_result"
    }
   ],
   "source": [
    "rel_df[:5]"
   ]
  },
  {
   "cell_type": "markdown",
   "metadata": {},
   "source": [
    "## Cleaning the data\n",
    "\n",
    "As I pointed out in the last blog post, there are two immediately obvious issues with these data. The first is that the date is in [Unix or Epoch time](https://en.wikipedia.org/wiki/Unix_time), which represents the number of seconds that have passed since 1 January 1970. In order to convert this into a datetime format, we run the following:"
   ]
  },
  {
   "cell_type": "code",
   "execution_count": 10,
   "metadata": {
    "collapsed": false
   },
   "outputs": [
    {
     "data": {
      "text/html": [
       "<div>\n",
       "<table border=\"1\" class=\"dataframe\">\n",
       "  <thead>\n",
       "    <tr style=\"text-align: right;\">\n",
       "      <th></th>\n",
       "      <th>Date</th>\n",
       "      <th>Title</th>\n",
       "      <th>Flair</th>\n",
       "      <th>Comments</th>\n",
       "      <th>Score</th>\n",
       "    </tr>\n",
       "  </thead>\n",
       "  <tbody>\n",
       "    <tr>\n",
       "      <th>0</th>\n",
       "      <td>2015-08-21 20:07:02</td>\n",
       "      <td>[UPDATE]My [26 F] with my husband [29 M] 1 yea...</td>\n",
       "      <td>Updates</td>\n",
       "      <td>908</td>\n",
       "      <td>7843</td>\n",
       "    </tr>\n",
       "    <tr>\n",
       "      <th>1</th>\n",
       "      <td>2015-08-07 15:50:46</td>\n",
       "      <td>Update: I [30 F] am sitting in the back of my ...</td>\n",
       "      <td>◉ Locked Post ◉</td>\n",
       "      <td>631</td>\n",
       "      <td>6038</td>\n",
       "    </tr>\n",
       "    <tr>\n",
       "      <th>2</th>\n",
       "      <td>2015-06-23 02:20:34</td>\n",
       "      <td>UPDATE: My fiancee (24F) has no bridesmaids an...</td>\n",
       "      <td>Updates</td>\n",
       "      <td>623</td>\n",
       "      <td>5548</td>\n",
       "    </tr>\n",
       "    <tr>\n",
       "      <th>3</th>\n",
       "      <td>2015-08-01 01:38:10</td>\n",
       "      <td>My [42M] daughter [17F] has been bullying a gi...</td>\n",
       "      <td>◉ Locked Post ◉</td>\n",
       "      <td>970</td>\n",
       "      <td>5301</td>\n",
       "    </tr>\n",
       "    <tr>\n",
       "      <th>4</th>\n",
       "      <td>2015-08-25 22:51:57</td>\n",
       "      <td>[Update] My [26F] fiance's [28M] ex-wife [28F]...</td>\n",
       "      <td>Updates</td>\n",
       "      <td>767</td>\n",
       "      <td>5195</td>\n",
       "    </tr>\n",
       "  </tbody>\n",
       "</table>\n",
       "</div>"
      ],
      "text/plain": [
       "                 Date                                              Title  \\\n",
       "0 2015-08-21 20:07:02  [UPDATE]My [26 F] with my husband [29 M] 1 yea...   \n",
       "1 2015-08-07 15:50:46  Update: I [30 F] am sitting in the back of my ...   \n",
       "2 2015-06-23 02:20:34  UPDATE: My fiancee (24F) has no bridesmaids an...   \n",
       "3 2015-08-01 01:38:10  My [42M] daughter [17F] has been bullying a gi...   \n",
       "4 2015-08-25 22:51:57  [Update] My [26F] fiance's [28M] ex-wife [28F]...   \n",
       "\n",
       "             Flair  Comments  Score  \n",
       "0          Updates       908   7843  \n",
       "1  ◉ Locked Post ◉       631   6038  \n",
       "2          Updates       623   5548  \n",
       "3  ◉ Locked Post ◉       970   5301  \n",
       "4          Updates       767   5195  "
      ]
     },
     "execution_count": 10,
     "metadata": {},
     "output_type": "execute_result"
    }
   ],
   "source": [
    "rel_df['Date'] = pd.to_datetime((rel_df['Date'].values*1e9).astype(int))\n",
    "rel_df[:5]"
   ]
  },
  {
   "cell_type": "markdown",
   "metadata": {},
   "source": [
    "The other issue is that when posts become locked by the subreddit moderators, the original flair is replaced with \"Locked Post\". This is not really the most useful label as it doesn't give us any information about the topic. Let's replace all of the \"Locked Post\" flairs with missing values and have a look at how many there are."
   ]
  },
  {
   "cell_type": "code",
   "execution_count": 11,
   "metadata": {
    "collapsed": false
   },
   "outputs": [
    {
     "data": {
      "text/plain": [
       "155"
      ]
     },
     "execution_count": 11,
     "metadata": {},
     "output_type": "execute_result"
    }
   ],
   "source": [
    "import re\n",
    "\n",
    "replace_value = rel_df['Flair'][1]\n",
    "rel_df['Flair'] = rel_df['Flair'].replace(replace_value, np.nan)\n",
    "\n",
    "rel_df['Flair'].isnull().sum()"
   ]
  },
  {
   "cell_type": "markdown",
   "metadata": {},
   "source": [
    "You can see a substantial number (16%) of flairs were replaced with \"Locked Post\", which means we have a large amount of missing data in this variable. However, we can recover some information by exploiting the fact that update posts usually have the word \"Update\" in the title. We can use a regex to check for whether \"Update\" is in the title, and if so, replace the flair with \"Updates\". We will replace any \"Locked Posts\" which do not meet our regex criteria with a missing value (NaN)."
   ]
  },
  {
   "cell_type": "code",
   "execution_count": 12,
   "metadata": {
    "collapsed": false
   },
   "outputs": [
    {
     "data": {
      "text/html": [
       "<div>\n",
       "<table border=\"1\" class=\"dataframe\">\n",
       "  <thead>\n",
       "    <tr style=\"text-align: right;\">\n",
       "      <th></th>\n",
       "      <th>Date</th>\n",
       "      <th>Title</th>\n",
       "      <th>Flair</th>\n",
       "      <th>Comments</th>\n",
       "      <th>Score</th>\n",
       "    </tr>\n",
       "  </thead>\n",
       "  <tbody>\n",
       "    <tr>\n",
       "      <th>0</th>\n",
       "      <td>2015-08-21 20:07:02</td>\n",
       "      <td>[UPDATE]My [26 F] with my husband [29 M] 1 yea...</td>\n",
       "      <td>Updates</td>\n",
       "      <td>908</td>\n",
       "      <td>7843</td>\n",
       "    </tr>\n",
       "    <tr>\n",
       "      <th>1</th>\n",
       "      <td>2015-08-07 15:50:46</td>\n",
       "      <td>Update: I [30 F] am sitting in the back of my ...</td>\n",
       "      <td>Updates</td>\n",
       "      <td>631</td>\n",
       "      <td>6038</td>\n",
       "    </tr>\n",
       "    <tr>\n",
       "      <th>2</th>\n",
       "      <td>2015-06-23 02:20:34</td>\n",
       "      <td>UPDATE: My fiancee (24F) has no bridesmaids an...</td>\n",
       "      <td>Updates</td>\n",
       "      <td>623</td>\n",
       "      <td>5548</td>\n",
       "    </tr>\n",
       "    <tr>\n",
       "      <th>3</th>\n",
       "      <td>2015-08-01 01:38:10</td>\n",
       "      <td>My [42M] daughter [17F] has been bullying a gi...</td>\n",
       "      <td>NaN</td>\n",
       "      <td>970</td>\n",
       "      <td>5301</td>\n",
       "    </tr>\n",
       "    <tr>\n",
       "      <th>4</th>\n",
       "      <td>2015-08-25 22:51:57</td>\n",
       "      <td>[Update] My [26F] fiance's [28M] ex-wife [28F]...</td>\n",
       "      <td>Updates</td>\n",
       "      <td>767</td>\n",
       "      <td>5195</td>\n",
       "    </tr>\n",
       "  </tbody>\n",
       "</table>\n",
       "</div>"
      ],
      "text/plain": [
       "                 Date                                              Title  \\\n",
       "0 2015-08-21 20:07:02  [UPDATE]My [26 F] with my husband [29 M] 1 yea...   \n",
       "1 2015-08-07 15:50:46  Update: I [30 F] am sitting in the back of my ...   \n",
       "2 2015-06-23 02:20:34  UPDATE: My fiancee (24F) has no bridesmaids an...   \n",
       "3 2015-08-01 01:38:10  My [42M] daughter [17F] has been bullying a gi...   \n",
       "4 2015-08-25 22:51:57  [Update] My [26F] fiance's [28M] ex-wife [28F]...   \n",
       "\n",
       "     Flair  Comments  Score  \n",
       "0  Updates       908   7843  \n",
       "1  Updates       631   6038  \n",
       "2  Updates       623   5548  \n",
       "3      NaN       970   5301  \n",
       "4  Updates       767   5195  "
      ]
     },
     "execution_count": 12,
     "metadata": {},
     "output_type": "execute_result"
    }
   ],
   "source": [
    "cond1 = rel_df['Title'].str.contains(\n",
    "    '^\\[?[a-z!?A-Z ]*UPDATE\\]?:?', flags = re.IGNORECASE)\n",
    "cond2 = rel_df['Flair'].isnull()\n",
    "\n",
    "rel_df.loc[(cond1 & cond2), 'Flair'] = rel_df.loc[(cond1 & cond2), 'Flair'].replace(np.nan, 'Updates')\n",
    "rel_df[:5]"
   ]
  },
  {
   "cell_type": "code",
   "execution_count": 13,
   "metadata": {
    "collapsed": false
   },
   "outputs": [
    {
     "data": {
      "text/plain": [
       "96"
      ]
     },
     "execution_count": 13,
     "metadata": {},
     "output_type": "execute_result"
    }
   ],
   "source": [
    "rel_df['Flair'].isnull().sum()"
   ]
  },
  {
   "cell_type": "markdown",
   "metadata": {},
   "source": [
    "You can see that we still have 10% of missing data in this variable, which is quite high. However, we have replaced some of the missing data in a robust manner. This should be bookmarked as a possible source of bias in our data for when we try and interpret our analyses."
   ]
  },
  {
   "cell_type": "markdown",
   "metadata": {},
   "source": [
    "## Extracting extra variables\n",
    "\n",
    "You might have gotten the idea from how I replaced the missing flairs that we could extract further information from the `Title` variable, and indeed we can. Another convention that we can exploit is that posters to /r/relationships are asked to include their age and sex in the title. For example, you can see in the first post that the poster has included their age and sex as \"[26F]\", indicating they are a 26 year old woman. You can probably also see a pattern in how the posters information is nested in the title as well. Looking through the data, I picked out four words that precede the posters' information: \"My\", \"I\", \"I'm\" and \"Me\". We can use a (pretty complicated) regex to extract this portion of the title:"
   ]
  },
  {
   "cell_type": "code",
   "execution_count": 206,
   "metadata": {
    "collapsed": false
   },
   "outputs": [
    {
     "data": {
      "text/plain": [
       "0    My [26 F]\n",
       "1     I [30 F]\n",
       "2      I (25m)\n",
       "3     My [42M]\n",
       "4     My [26F]\n",
       "Name: 0, dtype: object"
      ]
     },
     "execution_count": 206,
     "metadata": {},
     "output_type": "execute_result"
    }
   ],
   "source": [
    "poster_age_sex = rel_df['Title'].str.extract(\n",
    "    \"((i\\'m|i|my|me)\\s?(\\[|\\()(m|f)?(\\s|/)?[0-9]{1,2}(\\s|/)?([m,f]|male|female)?(\\]|\\)))\", \n",
    "        flags = re.IGNORECASE)[0]\n",
    "poster_age_sex[:5]"
   ]
  },
  {
   "cell_type": "markdown",
   "metadata": {},
   "source": [
    "Let's now clean this up by getting rid of the starting word, then pulling the age and sex out into separate variables and adding them to the DataFrame."
   ]
  },
  {
   "cell_type": "code",
   "execution_count": 15,
   "metadata": {
    "collapsed": false
   },
   "outputs": [
    {
     "data": {
      "text/html": [
       "<div>\n",
       "<table border=\"1\" class=\"dataframe\">\n",
       "  <thead>\n",
       "    <tr style=\"text-align: right;\">\n",
       "      <th></th>\n",
       "      <th>Date</th>\n",
       "      <th>Title</th>\n",
       "      <th>Flair</th>\n",
       "      <th>Comments</th>\n",
       "      <th>Score</th>\n",
       "      <th>PosterAge</th>\n",
       "      <th>PosterSex</th>\n",
       "    </tr>\n",
       "  </thead>\n",
       "  <tbody>\n",
       "    <tr>\n",
       "      <th>0</th>\n",
       "      <td>2015-08-21 20:07:02</td>\n",
       "      <td>[UPDATE]My [26 F] with my husband [29 M] 1 yea...</td>\n",
       "      <td>Updates</td>\n",
       "      <td>908</td>\n",
       "      <td>7843</td>\n",
       "      <td>26</td>\n",
       "      <td>F</td>\n",
       "    </tr>\n",
       "    <tr>\n",
       "      <th>1</th>\n",
       "      <td>2015-08-07 15:50:46</td>\n",
       "      <td>Update: I [30 F] am sitting in the back of my ...</td>\n",
       "      <td>Updates</td>\n",
       "      <td>631</td>\n",
       "      <td>6038</td>\n",
       "      <td>30</td>\n",
       "      <td>F</td>\n",
       "    </tr>\n",
       "    <tr>\n",
       "      <th>2</th>\n",
       "      <td>2015-06-23 02:20:34</td>\n",
       "      <td>UPDATE: My fiancee (24F) has no bridesmaids an...</td>\n",
       "      <td>Updates</td>\n",
       "      <td>623</td>\n",
       "      <td>5548</td>\n",
       "      <td>25</td>\n",
       "      <td>M</td>\n",
       "    </tr>\n",
       "    <tr>\n",
       "      <th>3</th>\n",
       "      <td>2015-08-01 01:38:10</td>\n",
       "      <td>My [42M] daughter [17F] has been bullying a gi...</td>\n",
       "      <td>NaN</td>\n",
       "      <td>970</td>\n",
       "      <td>5301</td>\n",
       "      <td>42</td>\n",
       "      <td>M</td>\n",
       "    </tr>\n",
       "    <tr>\n",
       "      <th>4</th>\n",
       "      <td>2015-08-25 22:51:57</td>\n",
       "      <td>[Update] My [26F] fiance's [28M] ex-wife [28F]...</td>\n",
       "      <td>Updates</td>\n",
       "      <td>767</td>\n",
       "      <td>5195</td>\n",
       "      <td>26</td>\n",
       "      <td>F</td>\n",
       "    </tr>\n",
       "  </tbody>\n",
       "</table>\n",
       "</div>"
      ],
      "text/plain": [
       "                 Date                                              Title  \\\n",
       "0 2015-08-21 20:07:02  [UPDATE]My [26 F] with my husband [29 M] 1 yea...   \n",
       "1 2015-08-07 15:50:46  Update: I [30 F] am sitting in the back of my ...   \n",
       "2 2015-06-23 02:20:34  UPDATE: My fiancee (24F) has no bridesmaids an...   \n",
       "3 2015-08-01 01:38:10  My [42M] daughter [17F] has been bullying a gi...   \n",
       "4 2015-08-25 22:51:57  [Update] My [26F] fiance's [28M] ex-wife [28F]...   \n",
       "\n",
       "     Flair  Comments  Score  PosterAge PosterSex  \n",
       "0  Updates       908   7843         26         F  \n",
       "1  Updates       631   6038         30         F  \n",
       "2  Updates       623   5548         25         M  \n",
       "3      NaN       970   5301         42         M  \n",
       "4  Updates       767   5195         26         F  "
      ]
     },
     "execution_count": 15,
     "metadata": {},
     "output_type": "execute_result"
    }
   ],
   "source": [
    "poster_age_sex = poster_age_sex.str.replace(\"((i\\'m|i|my|me))\\s?\", \"\", flags = re.IGNORECASE)\n",
    "poster_age = poster_age_sex.str.extract('([0-9]{1,2})')\n",
    "poster_sex = poster_age_sex.str.extract('([m,f])', flags = re.IGNORECASE)\n",
    "\n",
    "rel_df['PosterAge'] = pd.to_numeric(poster_age)\n",
    "rel_df['PosterSex'] = poster_sex.str.upper()\n",
    "\n",
    "rel_df[:5]"
   ]
  },
  {
   "cell_type": "markdown",
   "metadata": {},
   "source": [
    "Let's now check for missing values in our new PosterAge and PosterSex variables:"
   ]
  },
  {
   "cell_type": "code",
   "execution_count": 16,
   "metadata": {
    "collapsed": false
   },
   "outputs": [
    {
     "data": {
      "text/plain": [
       "91"
      ]
     },
     "execution_count": 16,
     "metadata": {},
     "output_type": "execute_result"
    }
   ],
   "source": [
    "rel_df['PosterAge'].isnull().sum()"
   ]
  },
  {
   "cell_type": "code",
   "execution_count": 17,
   "metadata": {
    "collapsed": false
   },
   "outputs": [
    {
     "data": {
      "text/plain": [
       "103"
      ]
     },
     "execution_count": 17,
     "metadata": {},
     "output_type": "execute_result"
    }
   ],
   "source": [
    "rel_df['PosterSex'].isnull().sum()"
   ]
  },
  {
   "cell_type": "markdown",
   "metadata": {},
   "source": [
    "Again, these variables have fairly high amounts of missing data (9% for age 10% for sex). This is another possible source of bias to keep in mind. I'll discuss how these possible biases might affect how we interpret our analyses at the end of next week's post.\n",
    "\n",
    "Finally, we can use the date variable to obtain the day of the week that the post was created:"
   ]
  },
  {
   "cell_type": "code",
   "execution_count": 18,
   "metadata": {
    "collapsed": false
   },
   "outputs": [
    {
     "data": {
      "text/html": [
       "<div>\n",
       "<table border=\"1\" class=\"dataframe\">\n",
       "  <thead>\n",
       "    <tr style=\"text-align: right;\">\n",
       "      <th></th>\n",
       "      <th>Date</th>\n",
       "      <th>Title</th>\n",
       "      <th>Flair</th>\n",
       "      <th>Comments</th>\n",
       "      <th>Score</th>\n",
       "      <th>PosterAge</th>\n",
       "      <th>PosterSex</th>\n",
       "      <th>DayOfWeek</th>\n",
       "    </tr>\n",
       "  </thead>\n",
       "  <tbody>\n",
       "    <tr>\n",
       "      <th>0</th>\n",
       "      <td>2015-08-21 20:07:02</td>\n",
       "      <td>[UPDATE]My [26 F] with my husband [29 M] 1 yea...</td>\n",
       "      <td>Updates</td>\n",
       "      <td>908</td>\n",
       "      <td>7843</td>\n",
       "      <td>26</td>\n",
       "      <td>F</td>\n",
       "      <td>Fri</td>\n",
       "    </tr>\n",
       "    <tr>\n",
       "      <th>1</th>\n",
       "      <td>2015-08-07 15:50:46</td>\n",
       "      <td>Update: I [30 F] am sitting in the back of my ...</td>\n",
       "      <td>Updates</td>\n",
       "      <td>631</td>\n",
       "      <td>6038</td>\n",
       "      <td>30</td>\n",
       "      <td>F</td>\n",
       "      <td>Fri</td>\n",
       "    </tr>\n",
       "    <tr>\n",
       "      <th>2</th>\n",
       "      <td>2015-06-23 02:20:34</td>\n",
       "      <td>UPDATE: My fiancee (24F) has no bridesmaids an...</td>\n",
       "      <td>Updates</td>\n",
       "      <td>623</td>\n",
       "      <td>5548</td>\n",
       "      <td>25</td>\n",
       "      <td>M</td>\n",
       "      <td>Tues</td>\n",
       "    </tr>\n",
       "    <tr>\n",
       "      <th>3</th>\n",
       "      <td>2015-08-01 01:38:10</td>\n",
       "      <td>My [42M] daughter [17F] has been bullying a gi...</td>\n",
       "      <td>NaN</td>\n",
       "      <td>970</td>\n",
       "      <td>5301</td>\n",
       "      <td>42</td>\n",
       "      <td>M</td>\n",
       "      <td>Sat</td>\n",
       "    </tr>\n",
       "    <tr>\n",
       "      <th>4</th>\n",
       "      <td>2015-08-25 22:51:57</td>\n",
       "      <td>[Update] My [26F] fiance's [28M] ex-wife [28F]...</td>\n",
       "      <td>Updates</td>\n",
       "      <td>767</td>\n",
       "      <td>5195</td>\n",
       "      <td>26</td>\n",
       "      <td>F</td>\n",
       "      <td>Tues</td>\n",
       "    </tr>\n",
       "  </tbody>\n",
       "</table>\n",
       "</div>"
      ],
      "text/plain": [
       "                 Date                                              Title  \\\n",
       "0 2015-08-21 20:07:02  [UPDATE]My [26 F] with my husband [29 M] 1 yea...   \n",
       "1 2015-08-07 15:50:46  Update: I [30 F] am sitting in the back of my ...   \n",
       "2 2015-06-23 02:20:34  UPDATE: My fiancee (24F) has no bridesmaids an...   \n",
       "3 2015-08-01 01:38:10  My [42M] daughter [17F] has been bullying a gi...   \n",
       "4 2015-08-25 22:51:57  [Update] My [26F] fiance's [28M] ex-wife [28F]...   \n",
       "\n",
       "     Flair  Comments  Score  PosterAge PosterSex DayOfWeek  \n",
       "0  Updates       908   7843         26         F       Fri  \n",
       "1  Updates       631   6038         30         F       Fri  \n",
       "2  Updates       623   5548         25         M      Tues  \n",
       "3      NaN       970   5301         42         M       Sat  \n",
       "4  Updates       767   5195         26         F      Tues  "
      ]
     },
     "execution_count": 18,
     "metadata": {},
     "output_type": "execute_result"
    }
   ],
   "source": [
    "rel_df['DayOfWeek'] = rel_df['Date'].dt.dayofweek\n",
    "days = {0: 'Mon', 1: 'Tues', 2: 'Weds', 3: 'Thurs', 4: 'Fri',\n",
    "        5: 'Sat', 6: 'Sun'}\n",
    "rel_df['DayOfWeek'] = rel_df['DayOfWeek'].apply(lambda x: days[x])\n",
    "\n",
    "rel_df[:5]"
   ]
  },
  {
   "cell_type": "markdown",
   "metadata": {},
   "source": [
    "Checking for missing data, we find that this time no values are missing (due to the fact that every date is present)."
   ]
  },
  {
   "cell_type": "code",
   "execution_count": 19,
   "metadata": {
    "collapsed": false
   },
   "outputs": [
    {
     "data": {
      "text/plain": [
       "0"
      ]
     },
     "execution_count": 19,
     "metadata": {},
     "output_type": "execute_result"
    }
   ],
   "source": [
    "rel_df['DayOfWeek'].isnull().sum()"
   ]
  },
  {
   "cell_type": "markdown",
   "metadata": {},
   "source": [
    "## Descriptives\n",
    "\n",
    "Now that we have finished cleaning, we are now ready to get acquainted with our data using some descriptives. For the sake of brevity I will skip screening for normality and assume all of the continuous variables are non-normal, but obviously in a real analysis it would be necessary to explore this further. As such, I will use the median and interquartile range (IQR) for continuous variables, and frequencies and percentages for categorical variables.\n",
    "\n",
    "### Poster age\n",
    "Let's start with the PosterAge. We can see we have 909 data points for this variable, and that posters are a median of 26 years old (IQR: 23, 29)."
   ]
  },
  {
   "cell_type": "code",
   "execution_count": 20,
   "metadata": {
    "collapsed": false
   },
   "outputs": [
    {
     "data": {
      "text/plain": [
       "count    909.000000\n",
       "mean      26.698570\n",
       "std        6.323285\n",
       "min       13.000000\n",
       "25%       23.000000\n",
       "50%       26.000000\n",
       "75%       29.000000\n",
       "max       57.000000\n",
       "Name: PosterAge, dtype: float64"
      ]
     },
     "execution_count": 20,
     "metadata": {},
     "output_type": "execute_result"
    }
   ],
   "source": [
    "rel_df['PosterAge'].describe()"
   ]
  },
  {
   "cell_type": "markdown",
   "metadata": {},
   "source": [
    "### Poster sex\n",
    "\n",
    "Looking at PosterSex, we can see that we have 897 data points for this variable. 542 of the posters are female (60% of non-missing values), and 355 are male (40%)."
   ]
  },
  {
   "cell_type": "code",
   "execution_count": 21,
   "metadata": {
    "collapsed": false
   },
   "outputs": [
    {
     "data": {
      "text/plain": [
       "897"
      ]
     },
     "execution_count": 21,
     "metadata": {},
     "output_type": "execute_result"
    }
   ],
   "source": [
    "rel_df['PosterSex'].notnull().sum()"
   ]
  },
  {
   "cell_type": "code",
   "execution_count": 22,
   "metadata": {
    "collapsed": false
   },
   "outputs": [
    {
     "data": {
      "text/plain": [
       "F    542\n",
       "M    355\n",
       "Name: PosterSex, dtype: int64"
      ]
     },
     "execution_count": 22,
     "metadata": {},
     "output_type": "execute_result"
    }
   ],
   "source": [
    "rel_df['PosterSex'].value_counts()"
   ]
  },
  {
   "cell_type": "code",
   "execution_count": 23,
   "metadata": {
    "collapsed": false
   },
   "outputs": [
    {
     "data": {
      "text/plain": [
       "F    60.423634\n",
       "M    39.576366\n",
       "Name: PosterSex, dtype: float64"
      ]
     },
     "execution_count": 23,
     "metadata": {},
     "output_type": "execute_result"
    }
   ],
   "source": [
    "100 * rel_df['PosterSex'].value_counts() / rel_df['PosterSex'].notnull().sum()"
   ]
  },
  {
   "cell_type": "markdown",
   "metadata": {},
   "source": [
    "### Flairs\n",
    "\n",
    "In Flairs, we have 904 complete data points. The most common flair is \"Updates\" (516 posts, or 57%), and the least common is \"Dating\" (3, > 1%). The bottom three categories are concerningly small and are therefore unlikely to be suitable for further analysis, especially when we get to doing subgroup analyses next week (see this [previous blog post]({filename}2015-09-15-representative-sampling.md) for a discussion on the importance of sufficiently large samples)."
   ]
  },
  {
   "cell_type": "code",
   "execution_count": 24,
   "metadata": {
    "collapsed": false
   },
   "outputs": [
    {
     "data": {
      "text/plain": [
       "904"
      ]
     },
     "execution_count": 24,
     "metadata": {},
     "output_type": "execute_result"
    }
   ],
   "source": [
    "rel_df['Flair'].notnull().sum()"
   ]
  },
  {
   "cell_type": "code",
   "execution_count": 25,
   "metadata": {
    "collapsed": false
   },
   "outputs": [
    {
     "data": {
      "text/plain": [
       "Updates            516\n",
       "Relationships      161\n",
       "Non-Romantic       158\n",
       "Infidelity          38\n",
       "Breakups            15\n",
       "Personal issues     13\n",
       "Dating               3\n",
       "Name: Flair, dtype: int64"
      ]
     },
     "execution_count": 25,
     "metadata": {},
     "output_type": "execute_result"
    }
   ],
   "source": [
    "rel_df['Flair'].value_counts()"
   ]
  },
  {
   "cell_type": "code",
   "execution_count": 26,
   "metadata": {
    "collapsed": false
   },
   "outputs": [
    {
     "data": {
      "text/plain": [
       "Updates            57.079646\n",
       "Relationships      17.809735\n",
       "Non-Romantic       17.477876\n",
       "Infidelity          4.203540\n",
       "Breakups            1.659292\n",
       "Personal issues     1.438053\n",
       "Dating              0.331858\n",
       "Name: Flair, dtype: float64"
      ]
     },
     "execution_count": 26,
     "metadata": {},
     "output_type": "execute_result"
    }
   ],
   "source": [
    "100 * rel_df['Flair'].value_counts() / rel_df['Flair'].notnull().sum()"
   ]
  },
  {
   "cell_type": "markdown",
   "metadata": {},
   "source": [
    "### Score\n",
    "\n",
    "Examining the `Score` variable we can see that it has all 1,000 data points, and the median score per post is 1,225 (IQR: 961, 1,761)."
   ]
  },
  {
   "cell_type": "code",
   "execution_count": 27,
   "metadata": {
    "collapsed": false
   },
   "outputs": [
    {
     "data": {
      "text/plain": [
       "count    1000.00000\n",
       "mean     1511.58000\n",
       "std       822.78436\n",
       "min       792.00000\n",
       "25%       963.00000\n",
       "50%      1224.50000\n",
       "75%      1762.00000\n",
       "max      7843.00000\n",
       "Name: Score, dtype: float64"
      ]
     },
     "execution_count": 27,
     "metadata": {},
     "output_type": "execute_result"
    }
   ],
   "source": [
    "rel_df['Score'].describe()"
   ]
  },
  {
   "cell_type": "markdown",
   "metadata": {},
   "source": [
    "### Comments\n",
    "\n",
    "Similarly, the 'Comments' variable has all 1,000 data points. The median number of comments per post is 269 (IQR: 161, 421)."
   ]
  },
  {
   "cell_type": "code",
   "execution_count": 28,
   "metadata": {
    "collapsed": false
   },
   "outputs": [
    {
     "data": {
      "text/plain": [
       "count    1000.000000\n",
       "mean      318.964000\n",
       "std       219.461632\n",
       "min        15.000000\n",
       "25%       161.000000\n",
       "50%       269.000000\n",
       "75%       421.250000\n",
       "max      1693.000000\n",
       "Name: Comments, dtype: float64"
      ]
     },
     "execution_count": 28,
     "metadata": {},
     "output_type": "execute_result"
    }
   ],
   "source": [
    "rel_df['Comments'].describe()"
   ]
  },
  {
   "cell_type": "markdown",
   "metadata": {},
   "source": [
    "### Day of week\n",
    "\n",
    "Finally, let's have a look at the day of the week the post was created. We already know it has all 1,000 data points, so we don't have to check that again. We can see that the highest number of posts were created during the week, with around 15% of posts on each of the weekdays. In contrast, Sunday was the quietest day for popular posts."
   ]
  },
  {
   "cell_type": "code",
   "execution_count": 29,
   "metadata": {
    "collapsed": false
   },
   "outputs": [
    {
     "data": {
      "text/plain": [
       "Tues     156\n",
       "Weds     155\n",
       "Mon      155\n",
       "Thurs    154\n",
       "Fri      148\n",
       "Sun      121\n",
       "Sat      111\n",
       "Name: DayOfWeek, dtype: int64"
      ]
     },
     "execution_count": 29,
     "metadata": {},
     "output_type": "execute_result"
    }
   ],
   "source": [
    "rel_df['DayOfWeek'].value_counts()"
   ]
  },
  {
   "cell_type": "code",
   "execution_count": 30,
   "metadata": {
    "collapsed": false
   },
   "outputs": [
    {
     "data": {
      "text/plain": [
       "Tues     15.6\n",
       "Weds     15.5\n",
       "Mon      15.5\n",
       "Thurs    15.4\n",
       "Fri      14.8\n",
       "Sun      12.1\n",
       "Sat      11.1\n",
       "Name: DayOfWeek, dtype: float64"
      ]
     },
     "execution_count": 30,
     "metadata": {},
     "output_type": "execute_result"
    }
   ],
   "source": [
    "100 * rel_df['DayOfWeek'].value_counts() / rel_df['DayOfWeek'].notnull().sum()"
   ]
  },
  {
   "cell_type": "markdown",
   "metadata": {},
   "source": [
    "We now have a cleaned dataset and have inspected each of the variables (although be aware I took some shortcuts with my screening and didn't inspect things like normality). We are now ready to run some analyses next week.\n",
    "\n",
    "For those who have followed this tutorial so far, or have been reading my blog more generally, a huge thank you! Today marks just past 3 months of blogging for me, and it has been wonderful to have an excuse to constantly learn new data science skills and to share them with others. I hope my posts have helped you to learn something (just as I have learned, and continue to learn from all of the wonderful data science and programming bloggers out there in turn)."
   ]
  },
  {
   "cell_type": "code",
   "execution_count": null,
   "metadata": {
    "collapsed": true
   },
   "outputs": [],
   "source": []
  }
 ],
 "metadata": {
  "kernelspec": {
   "display_name": "Python 2",
   "language": "python",
   "name": "python2"
  },
  "language_info": {
   "codemirror_mode": {
    "name": "ipython",
    "version": 2
   },
   "file_extension": ".py",
   "mimetype": "text/x-python",
   "name": "python",
   "nbconvert_exporter": "python",
   "pygments_lexer": "ipython2",
   "version": "2.7.10"
  }
 },
 "nbformat": 4,
 "nbformat_minor": 0
}
